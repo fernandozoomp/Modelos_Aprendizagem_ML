{
 "cells": [
  {
   "cell_type": "markdown",
   "metadata": {},
   "source": [
    "### Regressão Logística"
   ]
  },
  {
   "cell_type": "code",
   "execution_count": 1,
   "metadata": {},
   "outputs": [],
   "source": [
    "eleicao = read.csv(file.choose(), sep=\";\", header=T) # eleicao.csv\n",
    "fix(eleicao)"
   ]
  },
  {
   "cell_type": "code",
   "execution_count": 2,
   "metadata": {},
   "outputs": [
    {
     "data": {
      "text/html": [
       "<table>\n",
       "<caption>A data.frame: 47 × 3</caption>\n",
       "<thead>\n",
       "\t<tr><th></th><th scope=col>CANDIDATO</th><th scope=col>SITUACAO</th><th scope=col>DESPESAS</th></tr>\n",
       "\t<tr><th></th><th scope=col>&lt;fct&gt;</th><th scope=col>&lt;dbl&gt;</th><th scope=col>&lt;dbl&gt;</th></tr>\n",
       "</thead>\n",
       "<tbody>\n",
       "\t<tr><th scope=row>1</th><td>George Turner    </td><td>0</td><td>  10</td></tr>\n",
       "\t<tr><th scope=row>2</th><td>Victor Johnson   </td><td>0</td><td> 100</td></tr>\n",
       "\t<tr><th scope=row>3</th><td>Jerry Perry      </td><td>1</td><td>1600</td></tr>\n",
       "\t<tr><th scope=row>4</th><td>Shirley Cook     </td><td>1</td><td>1500</td></tr>\n",
       "\t<tr><th scope=row>5</th><td>Carolyn Bailey   </td><td>1</td><td>3300</td></tr>\n",
       "\t<tr><th scope=row>6</th><td>Susan Sanders    </td><td>0</td><td> 200</td></tr>\n",
       "\t<tr><th scope=row>7</th><td>Anthony Harris   </td><td>1</td><td>1800</td></tr>\n",
       "\t<tr><th scope=row>8</th><td>Philip Richardson</td><td>1</td><td>1700</td></tr>\n",
       "\t<tr><th scope=row>9</th><td>Eugene Phillips  </td><td>0</td><td> 300</td></tr>\n",
       "\t<tr><th scope=row>10</th><td>Mildred Morris   </td><td>1</td><td>1800</td></tr>\n",
       "\t<tr><th scope=row>11</th><td>Richard Jones    </td><td>0</td><td> 100</td></tr>\n",
       "\t<tr><th scope=row>12</th><td>Joan Hernandez   </td><td>0</td><td> 500</td></tr>\n",
       "\t<tr><th scope=row>13</th><td>Lawrence Mitchell</td><td>1</td><td>3000</td></tr>\n",
       "\t<tr><th scope=row>14</th><td>Annie Brooks     </td><td>0</td><td>  20</td></tr>\n",
       "\t<tr><th scope=row>15</th><td>Stephen Simmons  </td><td>0</td><td> 200</td></tr>\n",
       "\t<tr><th scope=row>16</th><td>Samuel Russell   </td><td>1</td><td> 700</td></tr>\n",
       "\t<tr><th scope=row>17</th><td>Jason Brown      </td><td>1</td><td>1600</td></tr>\n",
       "\t<tr><th scope=row>18</th><td>Bobby Gonzalez   </td><td>1</td><td>1900</td></tr>\n",
       "\t<tr><th scope=row>19</th><td>Steven Coleman   </td><td>0</td><td> 100</td></tr>\n",
       "\t<tr><th scope=row>20</th><td>Benjamin Ramirez </td><td>0</td><td> 400</td></tr>\n",
       "\t<tr><th scope=row>21</th><td> Pamela Bryant   </td><td>1</td><td>2700</td></tr>\n",
       "\t<tr><th scope=row>22</th><td>Billy Perez      </td><td>0</td><td> 200</td></tr>\n",
       "\t<tr><th scope=row>23</th><td>Julia Watson     </td><td>0</td><td> 300</td></tr>\n",
       "\t<tr><th scope=row>24</th><td>Laura Butler     </td><td>0</td><td> 500</td></tr>\n",
       "\t<tr><th scope=row>25</th><td> Gary Peterson   </td><td>1</td><td>2500</td></tr>\n",
       "\t<tr><th scope=row>26</th><td>Carl Lewis       </td><td>1</td><td>1400</td></tr>\n",
       "\t<tr><th scope=row>27</th><td>Virginia Scott   </td><td>0</td><td> 700</td></tr>\n",
       "\t<tr><th scope=row>28</th><td>Eric Alexander   </td><td>1</td><td>1700</td></tr>\n",
       "\t<tr><th scope=row>29</th><td>Jane Rodriguez   </td><td>1</td><td>1400</td></tr>\n",
       "\t<tr><th scope=row>30</th><td>Terry Smith      </td><td>1</td><td>1600</td></tr>\n",
       "\t<tr><th scope=row>31</th><td>Donald Campbell  </td><td>0</td><td> 400</td></tr>\n",
       "\t<tr><th scope=row>32</th><td>Helen Young      </td><td>0</td><td> 200</td></tr>\n",
       "\t<tr><th scope=row>33</th><td>Dorothy Bennett  </td><td>1</td><td>1600</td></tr>\n",
       "\t<tr><th scope=row>34</th><td>Stephanie Baker  </td><td>1</td><td>2200</td></tr>\n",
       "\t<tr><th scope=row>35</th><td>Joseph Gray      </td><td>1</td><td>1900</td></tr>\n",
       "\t<tr><th scope=row>36</th><td>Beverly King     </td><td>0</td><td> 200</td></tr>\n",
       "\t<tr><th scope=row>37</th><td>Lori Collins     </td><td>0</td><td>1200</td></tr>\n",
       "\t<tr><th scope=row>38</th><td>Diana Moore      </td><td>1</td><td>1700</td></tr>\n",
       "\t<tr><th scope=row>39</th><td>Diane Davis      </td><td>1</td><td>1500</td></tr>\n",
       "\t<tr><th scope=row>40</th><td>Timothy Reed     </td><td>1</td><td>2100</td></tr>\n",
       "\t<tr><th scope=row>41</th><td>Andrea Washington</td><td>0</td><td> 400</td></tr>\n",
       "\t<tr><th scope=row>42</th><td>Nicholas Garcia  </td><td>0</td><td> 800</td></tr>\n",
       "\t<tr><th scope=row>43</th><td>Barbara White    </td><td>0</td><td> 400</td></tr>\n",
       "\t<tr><th scope=row>44</th><td>Mark Hall        </td><td>1</td><td> 500</td></tr>\n",
       "\t<tr><th scope=row>45</th><td>Katherine Price  </td><td>0</td><td>1000</td></tr>\n",
       "\t<tr><th scope=row>46</th><td>Linda Long       </td><td>0</td><td> 300</td></tr>\n",
       "\t<tr><th scope=row>47</th><td>Harry Anderson   </td><td>1</td><td> 800</td></tr>\n",
       "</tbody>\n",
       "</table>\n"
      ],
      "text/latex": [
       "A data.frame: 47 × 3\n",
       "\\begin{tabular}{r|lll}\n",
       "  & CANDIDATO & SITUACAO & DESPESAS\\\\\n",
       "  & <fct> & <dbl> & <dbl>\\\\\n",
       "\\hline\n",
       "\t1 & George Turner     & 0 &   10\\\\\n",
       "\t2 & Victor Johnson    & 0 &  100\\\\\n",
       "\t3 & Jerry Perry       & 1 & 1600\\\\\n",
       "\t4 & Shirley Cook      & 1 & 1500\\\\\n",
       "\t5 & Carolyn Bailey    & 1 & 3300\\\\\n",
       "\t6 & Susan Sanders     & 0 &  200\\\\\n",
       "\t7 & Anthony Harris    & 1 & 1800\\\\\n",
       "\t8 & Philip Richardson & 1 & 1700\\\\\n",
       "\t9 & Eugene Phillips   & 0 &  300\\\\\n",
       "\t10 & Mildred Morris    & 1 & 1800\\\\\n",
       "\t11 & Richard Jones     & 0 &  100\\\\\n",
       "\t12 & Joan Hernandez    & 0 &  500\\\\\n",
       "\t13 & Lawrence Mitchell & 1 & 3000\\\\\n",
       "\t14 & Annie Brooks      & 0 &   20\\\\\n",
       "\t15 & Stephen Simmons   & 0 &  200\\\\\n",
       "\t16 & Samuel Russell    & 1 &  700\\\\\n",
       "\t17 & Jason Brown       & 1 & 1600\\\\\n",
       "\t18 & Bobby Gonzalez    & 1 & 1900\\\\\n",
       "\t19 & Steven Coleman    & 0 &  100\\\\\n",
       "\t20 & Benjamin Ramirez  & 0 &  400\\\\\n",
       "\t21 &  Pamela Bryant    & 1 & 2700\\\\\n",
       "\t22 & Billy Perez       & 0 &  200\\\\\n",
       "\t23 & Julia Watson      & 0 &  300\\\\\n",
       "\t24 & Laura Butler      & 0 &  500\\\\\n",
       "\t25 &  Gary Peterson    & 1 & 2500\\\\\n",
       "\t26 & Carl Lewis        & 1 & 1400\\\\\n",
       "\t27 & Virginia Scott    & 0 &  700\\\\\n",
       "\t28 & Eric Alexander    & 1 & 1700\\\\\n",
       "\t29 & Jane Rodriguez    & 1 & 1400\\\\\n",
       "\t30 & Terry Smith       & 1 & 1600\\\\\n",
       "\t31 & Donald Campbell   & 0 &  400\\\\\n",
       "\t32 & Helen Young       & 0 &  200\\\\\n",
       "\t33 & Dorothy Bennett   & 1 & 1600\\\\\n",
       "\t34 & Stephanie Baker   & 1 & 2200\\\\\n",
       "\t35 & Joseph Gray       & 1 & 1900\\\\\n",
       "\t36 & Beverly King      & 0 &  200\\\\\n",
       "\t37 & Lori Collins      & 0 & 1200\\\\\n",
       "\t38 & Diana Moore       & 1 & 1700\\\\\n",
       "\t39 & Diane Davis       & 1 & 1500\\\\\n",
       "\t40 & Timothy Reed      & 1 & 2100\\\\\n",
       "\t41 & Andrea Washington & 0 &  400\\\\\n",
       "\t42 & Nicholas Garcia   & 0 &  800\\\\\n",
       "\t43 & Barbara White     & 0 &  400\\\\\n",
       "\t44 & Mark Hall         & 1 &  500\\\\\n",
       "\t45 & Katherine Price   & 0 & 1000\\\\\n",
       "\t46 & Linda Long        & 0 &  300\\\\\n",
       "\t47 & Harry Anderson    & 1 &  800\\\\\n",
       "\\end{tabular}\n"
      ],
      "text/markdown": [
       "\n",
       "A data.frame: 47 × 3\n",
       "\n",
       "| <!--/--> | CANDIDATO &lt;fct&gt; | SITUACAO &lt;dbl&gt; | DESPESAS &lt;dbl&gt; |\n",
       "|---|---|---|---|\n",
       "| 1 | George Turner     | 0 |   10 |\n",
       "| 2 | Victor Johnson    | 0 |  100 |\n",
       "| 3 | Jerry Perry       | 1 | 1600 |\n",
       "| 4 | Shirley Cook      | 1 | 1500 |\n",
       "| 5 | Carolyn Bailey    | 1 | 3300 |\n",
       "| 6 | Susan Sanders     | 0 |  200 |\n",
       "| 7 | Anthony Harris    | 1 | 1800 |\n",
       "| 8 | Philip Richardson | 1 | 1700 |\n",
       "| 9 | Eugene Phillips   | 0 |  300 |\n",
       "| 10 | Mildred Morris    | 1 | 1800 |\n",
       "| 11 | Richard Jones     | 0 |  100 |\n",
       "| 12 | Joan Hernandez    | 0 |  500 |\n",
       "| 13 | Lawrence Mitchell | 1 | 3000 |\n",
       "| 14 | Annie Brooks      | 0 |   20 |\n",
       "| 15 | Stephen Simmons   | 0 |  200 |\n",
       "| 16 | Samuel Russell    | 1 |  700 |\n",
       "| 17 | Jason Brown       | 1 | 1600 |\n",
       "| 18 | Bobby Gonzalez    | 1 | 1900 |\n",
       "| 19 | Steven Coleman    | 0 |  100 |\n",
       "| 20 | Benjamin Ramirez  | 0 |  400 |\n",
       "| 21 |  Pamela Bryant    | 1 | 2700 |\n",
       "| 22 | Billy Perez       | 0 |  200 |\n",
       "| 23 | Julia Watson      | 0 |  300 |\n",
       "| 24 | Laura Butler      | 0 |  500 |\n",
       "| 25 |  Gary Peterson    | 1 | 2500 |\n",
       "| 26 | Carl Lewis        | 1 | 1400 |\n",
       "| 27 | Virginia Scott    | 0 |  700 |\n",
       "| 28 | Eric Alexander    | 1 | 1700 |\n",
       "| 29 | Jane Rodriguez    | 1 | 1400 |\n",
       "| 30 | Terry Smith       | 1 | 1600 |\n",
       "| 31 | Donald Campbell   | 0 |  400 |\n",
       "| 32 | Helen Young       | 0 |  200 |\n",
       "| 33 | Dorothy Bennett   | 1 | 1600 |\n",
       "| 34 | Stephanie Baker   | 1 | 2200 |\n",
       "| 35 | Joseph Gray       | 1 | 1900 |\n",
       "| 36 | Beverly King      | 0 |  200 |\n",
       "| 37 | Lori Collins      | 0 | 1200 |\n",
       "| 38 | Diana Moore       | 1 | 1700 |\n",
       "| 39 | Diane Davis       | 1 | 1500 |\n",
       "| 40 | Timothy Reed      | 1 | 2100 |\n",
       "| 41 | Andrea Washington | 0 |  400 |\n",
       "| 42 | Nicholas Garcia   | 0 |  800 |\n",
       "| 43 | Barbara White     | 0 |  400 |\n",
       "| 44 | Mark Hall         | 1 |  500 |\n",
       "| 45 | Katherine Price   | 0 | 1000 |\n",
       "| 46 | Linda Long        | 0 |  300 |\n",
       "| 47 | Harry Anderson    | 1 |  800 |\n",
       "\n"
      ],
      "text/plain": [
       "   CANDIDATO         SITUACAO DESPESAS\n",
       "1  George Turner     0          10    \n",
       "2  Victor Johnson    0         100    \n",
       "3  Jerry Perry       1        1600    \n",
       "4  Shirley Cook      1        1500    \n",
       "5  Carolyn Bailey    1        3300    \n",
       "6  Susan Sanders     0         200    \n",
       "7  Anthony Harris    1        1800    \n",
       "8  Philip Richardson 1        1700    \n",
       "9  Eugene Phillips   0         300    \n",
       "10 Mildred Morris    1        1800    \n",
       "11 Richard Jones     0         100    \n",
       "12 Joan Hernandez    0         500    \n",
       "13 Lawrence Mitchell 1        3000    \n",
       "14 Annie Brooks      0          20    \n",
       "15 Stephen Simmons   0         200    \n",
       "16 Samuel Russell    1         700    \n",
       "17 Jason Brown       1        1600    \n",
       "18 Bobby Gonzalez    1        1900    \n",
       "19 Steven Coleman    0         100    \n",
       "20 Benjamin Ramirez  0         400    \n",
       "21  Pamela Bryant    1        2700    \n",
       "22 Billy Perez       0         200    \n",
       "23 Julia Watson      0         300    \n",
       "24 Laura Butler      0         500    \n",
       "25  Gary Peterson    1        2500    \n",
       "26 Carl Lewis        1        1400    \n",
       "27 Virginia Scott    0         700    \n",
       "28 Eric Alexander    1        1700    \n",
       "29 Jane Rodriguez    1        1400    \n",
       "30 Terry Smith       1        1600    \n",
       "31 Donald Campbell   0         400    \n",
       "32 Helen Young       0         200    \n",
       "33 Dorothy Bennett   1        1600    \n",
       "34 Stephanie Baker   1        2200    \n",
       "35 Joseph Gray       1        1900    \n",
       "36 Beverly King      0         200    \n",
       "37 Lori Collins      0        1200    \n",
       "38 Diana Moore       1        1700    \n",
       "39 Diane Davis       1        1500    \n",
       "40 Timothy Reed      1        2100    \n",
       "41 Andrea Washington 0         400    \n",
       "42 Nicholas Garcia   0         800    \n",
       "43 Barbara White     0         400    \n",
       "44 Mark Hall         1         500    \n",
       "45 Katherine Price   0        1000    \n",
       "46 Linda Long        0         300    \n",
       "47 Harry Anderson    1         800    "
      ]
     },
     "metadata": {},
     "output_type": "display_data"
    }
   ],
   "source": [
    "eleicao"
   ]
  },
  {
   "cell_type": "code",
   "execution_count": 3,
   "metadata": {},
   "outputs": [
    {
     "data": {
      "image/png": "[encoded data removed]",
      "text/plain": [
       "plot without title"
      ]
     },
     "metadata": {
      "image/png": {
       "height": 420,
       "width": 420
      },
      "text/plain": {
       "height": 420,
       "width": 420
      }
     },
     "output_type": "display_data"
    }
   ],
   "source": [
    "plot(eleicao$DESPESAS, eleicao$SITUACAO)"
   ]
  },
  {
   "cell_type": "code",
   "execution_count": 4,
   "metadata": {},
   "outputs": [
    {
     "data": {
      "text/plain": [
       "             CANDIDATO     SITUACAO         DESPESAS   \n",
       "  Gary Peterson   : 1   Min.   :0.0000   Min.   :  10  \n",
       "  Pamela Bryant   : 1   1st Qu.:0.0000   1st Qu.: 300  \n",
       " Andrea Washington: 1   Median :1.0000   Median : 800  \n",
       " Annie Brooks     : 1   Mean   :0.5106   Mean   :1086  \n",
       " Anthony Harris   : 1   3rd Qu.:1.0000   3rd Qu.:1700  \n",
       " Barbara White    : 1   Max.   :1.0000   Max.   :3300  \n",
       " (Other)          :41                                  "
      ]
     },
     "metadata": {},
     "output_type": "display_data"
    }
   ],
   "source": [
    "summary(eleicao)"
   ]
  },
  {
   "cell_type": "code",
   "execution_count": 5,
   "metadata": {},
   "outputs": [
    {
     "data": {
      "text/html": [
       "0.812187165576407"
      ],
      "text/latex": [
       "0.812187165576407"
      ],
      "text/markdown": [
       "0.812187165576407"
      ],
      "text/plain": [
       "[1] 0.8121872"
      ]
     },
     "metadata": {},
     "output_type": "display_data"
    }
   ],
   "source": [
    "cor(eleicao$DESPESAS, eleicao$SITUACAO)"
   ]
  },
  {
   "cell_type": "code",
   "execution_count": 6,
   "metadata": {},
   "outputs": [
    {
     "data": {
      "text/plain": [
       "\n",
       "Call:  glm(formula = SITUACAO ~ DESPESAS, family = \"binomial\", data = eleicao)\n",
       "\n",
       "Coefficients:\n",
       "(Intercept)     DESPESAS  \n",
       "  -4.602880     0.004984  \n",
       "\n",
       "Degrees of Freedom: 46 Total (i.e. Null);  45 Residual\n",
       "Null Deviance:\t    65.13 \n",
       "Residual Deviance: 18.54 \tAIC: 22.54"
      ]
     },
     "metadata": {},
     "output_type": "display_data"
    }
   ],
   "source": [
    "modelo = glm(SITUACAO ~ DESPESAS, data = eleicao, family = \"binomial\")\n",
    "modelo"
   ]
  },
  {
   "cell_type": "code",
   "execution_count": 7,
   "metadata": {},
   "outputs": [
    {
     "data": {
      "text/plain": [
       "\n",
       "Call:\n",
       "glm(formula = SITUACAO ~ DESPESAS, family = \"binomial\", data = eleicao)\n",
       "\n",
       "Deviance Residuals: \n",
       "     Min        1Q    Median        3Q       Max  \n",
       "-1.79020  -0.29574   0.00379   0.20326   2.10968  \n",
       "\n",
       "Coefficients:\n",
       "             Estimate Std. Error z value Pr(>|z|)    \n",
       "(Intercept) -4.602880   1.315934  -3.498 0.000469 ***\n",
       "DESPESAS     0.004984   0.001404   3.550 0.000385 ***\n",
       "---\n",
       "Signif. codes:  0 '***' 0.001 '**' 0.01 '*' 0.05 '.' 0.1 ' ' 1\n",
       "\n",
       "(Dispersion parameter for binomial family taken to be 1)\n",
       "\n",
       "    Null deviance: 65.135  on 46  degrees of freedom\n",
       "Residual deviance: 18.540  on 45  degrees of freedom\n",
       "AIC: 22.54\n",
       "\n",
       "Number of Fisher Scoring iterations: 7\n"
      ]
     },
     "metadata": {},
     "output_type": "display_data"
    }
   ],
   "source": [
    "summary(modelo)"
   ]
  },
  {
   "cell_type": "code",
   "execution_count": 8,
   "metadata": {},
   "outputs": [
    {
     "data": {
      "image/png": "[encoded data removed]",
      "text/plain": [
       "plot without title"
      ]
     },
     "metadata": {
      "image/png": {
       "height": 420,
       "width": 420
      },
      "text/plain": {
       "height": 420,
       "width": 420
      }
     },
     "output_type": "display_data"
    }
   ],
   "source": [
    "plot(eleicao$DESPESAS, eleicao$SITUACAO, col=\"red\", pch=20)\n",
    "points(eleicao$DESPESAS, modelo$fitted, pch=4)"
   ]
  },
  {
   "cell_type": "code",
   "execution_count": 9,
   "metadata": {},
   "outputs": [],
   "source": [
    "prevereleicao = read.csv(file.choose(), sep=\";\", header=T) # novoscandidatos.csv\n",
    "fix(prevereleicao)"
   ]
  },
  {
   "cell_type": "code",
   "execution_count": 10,
   "metadata": {},
   "outputs": [
    {
     "data": {
      "text/html": [
       "<table>\n",
       "<caption>A data.frame: 7 × 3</caption>\n",
       "<thead>\n",
       "\t<tr><th></th><th scope=col>CANDIDATO</th><th scope=col>DESPESAS</th><th scope=col>RESULT</th></tr>\n",
       "\t<tr><th></th><th scope=col>&lt;fct&gt;</th><th scope=col>&lt;dbl&gt;</th><th scope=col>&lt;dbl&gt;</th></tr>\n",
       "</thead>\n",
       "<tbody>\n",
       "\t<tr><th scope=row>1</th><td>A</td><td>   0</td><td>0.009923466</td></tr>\n",
       "\t<tr><th scope=row>2</th><td>B</td><td>  10</td><td>0.010425261</td></tr>\n",
       "\t<tr><th scope=row>3</th><td>C</td><td> 200</td><td>0.026438255</td></tr>\n",
       "\t<tr><th scope=row>4</th><td>D</td><td> 500</td><td>0.108027149</td></tr>\n",
       "\t<tr><th scope=row>5</th><td>E</td><td> 900</td><td>0.470635921</td></tr>\n",
       "\t<tr><th scope=row>6</th><td>F</td><td>1500</td><td>0.946475247</td></tr>\n",
       "\t<tr><th scope=row>7</th><td>G</td><td>3000</td><td>0.999967947</td></tr>\n",
       "</tbody>\n",
       "</table>\n"
      ],
      "text/latex": [
       "A data.frame: 7 × 3\n",
       "\\begin{tabular}{r|lll}\n",
       "  & CANDIDATO & DESPESAS & RESULT\\\\\n",
       "  & <fct> & <dbl> & <dbl>\\\\\n",
       "\\hline\n",
       "\t1 & A &    0 & 0.009923466\\\\\n",
       "\t2 & B &   10 & 0.010425261\\\\\n",
       "\t3 & C &  200 & 0.026438255\\\\\n",
       "\t4 & D &  500 & 0.108027149\\\\\n",
       "\t5 & E &  900 & 0.470635921\\\\\n",
       "\t6 & F & 1500 & 0.946475247\\\\\n",
       "\t7 & G & 3000 & 0.999967947\\\\\n",
       "\\end{tabular}\n"
      ],
      "text/markdown": [
       "\n",
       "A data.frame: 7 × 3\n",
       "\n",
       "| <!--/--> | CANDIDATO &lt;fct&gt; | DESPESAS &lt;dbl&gt; | RESULT &lt;dbl&gt; |\n",
       "|---|---|---|---|\n",
       "| 1 | A |    0 | 0.009923466 |\n",
       "| 2 | B |   10 | 0.010425261 |\n",
       "| 3 | C |  200 | 0.026438255 |\n",
       "| 4 | D |  500 | 0.108027149 |\n",
       "| 5 | E |  900 | 0.470635921 |\n",
       "| 6 | F | 1500 | 0.946475247 |\n",
       "| 7 | G | 3000 | 0.999967947 |\n",
       "\n"
      ],
      "text/plain": [
       "  CANDIDATO DESPESAS RESULT     \n",
       "1 A            0     0.009923466\n",
       "2 B           10     0.010425261\n",
       "3 C          200     0.026438255\n",
       "4 D          500     0.108027149\n",
       "5 E          900     0.470635921\n",
       "6 F         1500     0.946475247\n",
       "7 G         3000     0.999967947"
      ]
     },
     "metadata": {},
     "output_type": "display_data"
    }
   ],
   "source": [
    "prevereleicao$RESULT = predict(modelo,newdata=prevereleicao, type=\"response\")\n",
    "prevereleicao"
   ]
  }
 ],
 "metadata": {
  "kernelspec": {
   "display_name": "R 3.3",
   "language": "R",
   "name": "ir33"
  },
  "language_info": {
   "codemirror_mode": "r",
   "file_extension": ".r",
   "mimetype": "text/x-r-source",
   "name": "R",
   "pygments_lexer": "r",
   "version": "3.6.1"
  }
 },
 "nbformat": 4,
 "nbformat_minor": 4
}
