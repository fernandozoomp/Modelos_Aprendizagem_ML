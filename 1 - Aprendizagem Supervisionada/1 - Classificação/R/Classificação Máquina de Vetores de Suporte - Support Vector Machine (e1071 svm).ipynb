{
 "cells": [
  {
   "cell_type": "markdown",
   "metadata": {},
   "source": [
    "### Classificação Máquina de Vetores de Suporte - Support Vector Machine"
   ]
  },
  {
   "cell_type": "code",
   "execution_count": 1,
   "metadata": {},
   "outputs": [],
   "source": [
    "# install.packages(\"e1071\", dependencies=T)\n",
    "library(e1071)"
   ]
  },
  {
   "cell_type": "code",
   "execution_count": 2,
   "metadata": {},
   "outputs": [
    {
     "data": {
      "text/html": [
       "<table>\n",
       "<caption>A data.frame: 6 × 21</caption>\n",
       "<thead>\n",
       "\t<tr><th></th><th scope=col>checking_status</th><th scope=col>duration</th><th scope=col>credit_history</th><th scope=col>purpose</th><th scope=col>credit_amount</th><th scope=col>savings_status</th><th scope=col>employment</th><th scope=col>installment_commitment</th><th scope=col>personal_status</th><th scope=col>other_parties</th><th scope=col>...</th><th scope=col>property_magnitude</th><th scope=col>age</th><th scope=col>other_payment_plans</th><th scope=col>housing</th><th scope=col>existing_credits</th><th scope=col>job</th><th scope=col>num_dependents</th><th scope=col>own_telephone</th><th scope=col>foreign_worker</th><th scope=col>class</th></tr>\n",
       "\t<tr><th></th><th scope=col>&lt;fct&gt;</th><th scope=col>&lt;dbl&gt;</th><th scope=col>&lt;fct&gt;</th><th scope=col>&lt;fct&gt;</th><th scope=col>&lt;dbl&gt;</th><th scope=col>&lt;fct&gt;</th><th scope=col>&lt;fct&gt;</th><th scope=col>&lt;dbl&gt;</th><th scope=col>&lt;fct&gt;</th><th scope=col>&lt;fct&gt;</th><th scope=col>...</th><th scope=col>&lt;fct&gt;</th><th scope=col>&lt;dbl&gt;</th><th scope=col>&lt;fct&gt;</th><th scope=col>&lt;fct&gt;</th><th scope=col>&lt;dbl&gt;</th><th scope=col>&lt;fct&gt;</th><th scope=col>&lt;dbl&gt;</th><th scope=col>&lt;fct&gt;</th><th scope=col>&lt;fct&gt;</th><th scope=col>&lt;fct&gt;</th></tr>\n",
       "</thead>\n",
       "<tbody>\n",
       "\t<tr><th scope=row>1</th><td><span style=white-space:pre-wrap>&lt;0           </span></td><td> 6</td><td>'critical/other existing credit'</td><td><span style=white-space:pre-wrap>radio/tv           </span></td><td>1169</td><td>'no known savings'</td><td><span style=white-space:pre-wrap>&gt;=7   </span></td><td>4</td><td><span style=white-space:pre-wrap>'male single'       </span></td><td><span style=white-space:pre-wrap>none     </span></td><td>...</td><td><span style=white-space:pre-wrap>'real estate'      </span></td><td>67</td><td>none</td><td><span style=white-space:pre-wrap>own       </span></td><td>2</td><td><span style=white-space:pre-wrap>skilled             </span></td><td>1</td><td>yes </td><td>yes</td><td>good</td></tr>\n",
       "\t<tr><th scope=row>2</th><td><span style=white-space:pre-wrap>0&lt;=X&lt;200     </span></td><td>48</td><td><span style=white-space:pre-wrap>'existing paid'                 </span></td><td><span style=white-space:pre-wrap>radio/tv           </span></td><td>5951</td><td><span style=white-space:pre-wrap>&lt;100              </span></td><td>1&lt;=X&lt;4</td><td>2</td><td>'female div/dep/mar'</td><td><span style=white-space:pre-wrap>none     </span></td><td>...</td><td><span style=white-space:pre-wrap>'real estate'      </span></td><td>22</td><td>none</td><td><span style=white-space:pre-wrap>own       </span></td><td>1</td><td><span style=white-space:pre-wrap>skilled             </span></td><td>1</td><td>none</td><td>yes</td><td>bad </td></tr>\n",
       "\t<tr><th scope=row>3</th><td>'no checking'</td><td>12</td><td>'critical/other existing credit'</td><td><span style=white-space:pre-wrap>education          </span></td><td>2096</td><td><span style=white-space:pre-wrap>&lt;100              </span></td><td>4&lt;=X&lt;7</td><td>2</td><td><span style=white-space:pre-wrap>'male single'       </span></td><td><span style=white-space:pre-wrap>none     </span></td><td>...</td><td><span style=white-space:pre-wrap>'real estate'      </span></td><td>49</td><td>none</td><td><span style=white-space:pre-wrap>own       </span></td><td>1</td><td>'unskilled resident'</td><td>2</td><td>none</td><td>yes</td><td>good</td></tr>\n",
       "\t<tr><th scope=row>4</th><td><span style=white-space:pre-wrap>&lt;0           </span></td><td>42</td><td><span style=white-space:pre-wrap>'existing paid'                 </span></td><td>furniture/equipment</td><td>7882</td><td><span style=white-space:pre-wrap>&lt;100              </span></td><td>4&lt;=X&lt;7</td><td>2</td><td><span style=white-space:pre-wrap>'male single'       </span></td><td>guarantor</td><td>...</td><td><span style=white-space:pre-wrap>'life insurance'   </span></td><td>45</td><td>none</td><td>'for free'</td><td>1</td><td><span style=white-space:pre-wrap>skilled             </span></td><td>2</td><td>none</td><td>yes</td><td>good</td></tr>\n",
       "\t<tr><th scope=row>5</th><td><span style=white-space:pre-wrap>&lt;0           </span></td><td>24</td><td><span style=white-space:pre-wrap>'delayed previously'            </span></td><td><span style=white-space:pre-wrap>'new car'          </span></td><td>4870</td><td><span style=white-space:pre-wrap>&lt;100              </span></td><td>1&lt;=X&lt;4</td><td>3</td><td><span style=white-space:pre-wrap>'male single'       </span></td><td><span style=white-space:pre-wrap>none     </span></td><td>...</td><td>'no known property'</td><td>53</td><td>none</td><td>'for free'</td><td>2</td><td><span style=white-space:pre-wrap>skilled             </span></td><td>2</td><td>none</td><td>yes</td><td>bad </td></tr>\n",
       "\t<tr><th scope=row>6</th><td>'no checking'</td><td>36</td><td><span style=white-space:pre-wrap>'existing paid'                 </span></td><td><span style=white-space:pre-wrap>education          </span></td><td>9055</td><td>'no known savings'</td><td>1&lt;=X&lt;4</td><td>2</td><td><span style=white-space:pre-wrap>'male single'       </span></td><td><span style=white-space:pre-wrap>none     </span></td><td>...</td><td>'no known property'</td><td>35</td><td>none</td><td>'for free'</td><td>1</td><td>'unskilled resident'</td><td>2</td><td>yes </td><td>yes</td><td>good</td></tr>\n",
       "</tbody>\n",
       "</table>\n"
      ],
      "text/latex": [
       "A data.frame: 6 × 21\n",
       "\\begin{tabular}{r|lllllllllllllllllllll}\n",
       "  & checking\\_status & duration & credit\\_history & purpose & credit\\_amount & savings\\_status & employment & installment\\_commitment & personal\\_status & other\\_parties & ... & property\\_magnitude & age & other\\_payment\\_plans & housing & existing\\_credits & job & num\\_dependents & own\\_telephone & foreign\\_worker & class\\\\\n",
       "  & <fct> & <dbl> & <fct> & <fct> & <dbl> & <fct> & <fct> & <dbl> & <fct> & <fct> & ... & <fct> & <dbl> & <fct> & <fct> & <dbl> & <fct> & <dbl> & <fct> & <fct> & <fct>\\\\\n",
       "\\hline\n",
       "\t1 & <0            &  6 & 'critical/other existing credit' & radio/tv            & 1169 & 'no known savings' & >=7    & 4 & 'male single'        & none      & ... & 'real estate'       & 67 & none & own        & 2 & skilled              & 1 & yes  & yes & good\\\\\n",
       "\t2 & 0<=X<200      & 48 & 'existing paid'                  & radio/tv            & 5951 & <100               & 1<=X<4 & 2 & 'female div/dep/mar' & none      & ... & 'real estate'       & 22 & none & own        & 1 & skilled              & 1 & none & yes & bad \\\\\n",
       "\t3 & 'no checking' & 12 & 'critical/other existing credit' & education           & 2096 & <100               & 4<=X<7 & 2 & 'male single'        & none      & ... & 'real estate'       & 49 & none & own        & 1 & 'unskilled resident' & 2 & none & yes & good\\\\\n",
       "\t4 & <0            & 42 & 'existing paid'                  & furniture/equipment & 7882 & <100               & 4<=X<7 & 2 & 'male single'        & guarantor & ... & 'life insurance'    & 45 & none & 'for free' & 1 & skilled              & 2 & none & yes & good\\\\\n",
       "\t5 & <0            & 24 & 'delayed previously'             & 'new car'           & 4870 & <100               & 1<=X<4 & 3 & 'male single'        & none      & ... & 'no known property' & 53 & none & 'for free' & 2 & skilled              & 2 & none & yes & bad \\\\\n",
       "\t6 & 'no checking' & 36 & 'existing paid'                  & education           & 9055 & 'no known savings' & 1<=X<4 & 2 & 'male single'        & none      & ... & 'no known property' & 35 & none & 'for free' & 1 & 'unskilled resident' & 2 & yes  & yes & good\\\\\n",
       "\\end{tabular}\n"
      ],
      "text/markdown": [
       "\n",
       "A data.frame: 6 × 21\n",
       "\n",
       "| <!--/--> | checking_status &lt;fct&gt; | duration &lt;dbl&gt; | credit_history &lt;fct&gt; | purpose &lt;fct&gt; | credit_amount &lt;dbl&gt; | savings_status &lt;fct&gt; | employment &lt;fct&gt; | installment_commitment &lt;dbl&gt; | personal_status &lt;fct&gt; | other_parties &lt;fct&gt; | ... ... | property_magnitude &lt;fct&gt; | age &lt;dbl&gt; | other_payment_plans &lt;fct&gt; | housing &lt;fct&gt; | existing_credits &lt;dbl&gt; | job &lt;fct&gt; | num_dependents &lt;dbl&gt; | own_telephone &lt;fct&gt; | foreign_worker &lt;fct&gt; | class &lt;fct&gt; |\n",
       "|---|---|---|---|---|---|---|---|---|---|---|---|---|---|---|---|---|---|---|---|---|---|\n",
       "| 1 | &lt;0            |  6 | 'critical/other existing credit' | radio/tv            | 1169 | 'no known savings' | &gt;=7    | 4 | 'male single'        | none      | ... | 'real estate'       | 67 | none | own        | 2 | skilled              | 1 | yes  | yes | good |\n",
       "| 2 | 0&lt;=X&lt;200      | 48 | 'existing paid'                  | radio/tv            | 5951 | &lt;100               | 1&lt;=X&lt;4 | 2 | 'female div/dep/mar' | none      | ... | 'real estate'       | 22 | none | own        | 1 | skilled              | 1 | none | yes | bad  |\n",
       "| 3 | 'no checking' | 12 | 'critical/other existing credit' | education           | 2096 | &lt;100               | 4&lt;=X&lt;7 | 2 | 'male single'        | none      | ... | 'real estate'       | 49 | none | own        | 1 | 'unskilled resident' | 2 | none | yes | good |\n",
       "| 4 | &lt;0            | 42 | 'existing paid'                  | furniture/equipment | 7882 | &lt;100               | 4&lt;=X&lt;7 | 2 | 'male single'        | guarantor | ... | 'life insurance'    | 45 | none | 'for free' | 1 | skilled              | 2 | none | yes | good |\n",
       "| 5 | &lt;0            | 24 | 'delayed previously'             | 'new car'           | 4870 | &lt;100               | 1&lt;=X&lt;4 | 3 | 'male single'        | none      | ... | 'no known property' | 53 | none | 'for free' | 2 | skilled              | 2 | none | yes | bad  |\n",
       "| 6 | 'no checking' | 36 | 'existing paid'                  | education           | 9055 | 'no known savings' | 1&lt;=X&lt;4 | 2 | 'male single'        | none      | ... | 'no known property' | 35 | none | 'for free' | 1 | 'unskilled resident' | 2 | yes  | yes | good |\n",
       "\n"
      ],
      "text/plain": [
       "  checking_status duration credit_history                   purpose            \n",
       "1 <0               6       'critical/other existing credit' radio/tv           \n",
       "2 0<=X<200        48       'existing paid'                  radio/tv           \n",
       "3 'no checking'   12       'critical/other existing credit' education          \n",
       "4 <0              42       'existing paid'                  furniture/equipment\n",
       "5 <0              24       'delayed previously'             'new car'          \n",
       "6 'no checking'   36       'existing paid'                  education          \n",
       "  credit_amount savings_status     employment installment_commitment\n",
       "1 1169          'no known savings' >=7        4                     \n",
       "2 5951          <100               1<=X<4     2                     \n",
       "3 2096          <100               4<=X<7     2                     \n",
       "4 7882          <100               4<=X<7     2                     \n",
       "5 4870          <100               1<=X<4     3                     \n",
       "6 9055          'no known savings' 1<=X<4     2                     \n",
       "  personal_status      other_parties ... property_magnitude  age\n",
       "1 'male single'        none          ... 'real estate'       67 \n",
       "2 'female div/dep/mar' none          ... 'real estate'       22 \n",
       "3 'male single'        none          ... 'real estate'       49 \n",
       "4 'male single'        guarantor     ... 'life insurance'    45 \n",
       "5 'male single'        none          ... 'no known property' 53 \n",
       "6 'male single'        none          ... 'no known property' 35 \n",
       "  other_payment_plans housing    existing_credits job                 \n",
       "1 none                own        2                skilled             \n",
       "2 none                own        1                skilled             \n",
       "3 none                own        1                'unskilled resident'\n",
       "4 none                'for free' 1                skilled             \n",
       "5 none                'for free' 2                skilled             \n",
       "6 none                'for free' 1                'unskilled resident'\n",
       "  num_dependents own_telephone foreign_worker class\n",
       "1 1              yes           yes            good \n",
       "2 1              none          yes            bad  \n",
       "3 2              none          yes            good \n",
       "4 2              none          yes            good \n",
       "5 2              none          yes            bad  \n",
       "6 2              yes           yes            good "
      ]
     },
     "metadata": {},
     "output_type": "display_data"
    }
   ],
   "source": [
    "credito = read.csv(file.choose(), sep=\",\", header=T) # credit.csv\n",
    "fix(credito)\n",
    "head(credito)"
   ]
  },
  {
   "cell_type": "code",
   "execution_count": 3,
   "metadata": {},
   "outputs": [
    {
     "name": "stdout",
     "output_type": "stream",
     "text": [
      "[1] 1000   21\n"
     ]
    }
   ],
   "source": [
    "print(dim(credito))"
   ]
  },
  {
   "cell_type": "code",
   "execution_count": 4,
   "metadata": {},
   "outputs": [
    {
     "name": "stdout",
     "output_type": "stream",
     "text": [
      "   [1] 1 2 1 2 2 2 1 1 2 2 1 2 1 2 1 2 2 2 2 1 1 1 1 1 1 1 2 2 1 2 2 1 2 2 1 1 1\n",
      "  [38] 1 1 1 1 2 1 2 1 1 1 1 1 1 1 1 1 1 2 2 1 1 1 1 2 2 1 1 2 1 2 2 1 2 2 2 1 1\n",
      "  [75] 1 1 1 1 1 2 1 1 2 1 1 1 1 2 1 1 1 1 1 1 1 1 2 1 1 1 1 1 2 1 2 1 1 1 1 2 1\n",
      " [112] 1 1 2 1 1 1 1 1 1 2 2 1 1 1 1 1 1 2 2 1 1 1 1 2 1 2 1 1 1 1 1 1 1 1 1 1 1\n",
      " [149] 1 2 2 2 1 2 1 1 1 2 1 1 2 1 1 1 2 1 1 2 2 2 2 2 1 2 1 2 1 2 1 1 2 2 1 1 1\n",
      " [186] 1 2 1 2 1 1 1 2 1 2 1 1 1 1 1 1 2 1 1 1 2 1 1 2 1 1 2 1 1 1 1 1 2 1 1 1 1\n",
      " [223] 1 2 1 1 2 2 2 1 1 1 1 1 1 2 1 1 1 2 1 1 1 2 1 2 1 1 1 1 1 1 1 2 1 2 1 2 1\n",
      " [260] 1 1 1 1 1 1 2 1 1 1 1 1 2 1 1 2 1 1 1 1 1 1 1 1 2 2 1 2 1 1 2 1 2 1 1 1 1\n",
      " [297] 1 2 2 1 2 1 1 2 1 2 2 1 1 1 1 2 1 2 1 1 1 2 2 1 1 1 1 2 1 2 1 1 1 1 2 2 1\n",
      " [334] 1 1 1 1 1 2 1 1 1 1 1 2 2 1 2 2 1 1 1 1 1 1 2 1 1 1 2 1 1 2 1 1 2 1 2 1 1\n",
      " [371] 1 1 1 1 1 1 1 1 1 1 1 2 2 1 2 1 1 2 1 1 1 1 1 1 1 2 1 2 1 2 2 1 1 1 2 1 1\n",
      " [408] 2 1 1 1 1 1 1 1 2 1 2 1 2 2 1 1 1 1 2 2 1 1 2 1 2 1 1 1 1 1 2 1 1 1 2 1 1\n",
      " [445] 1 2 1 1 1 1 1 1 2 1 1 1 1 2 1 1 1 1 2 1 1 1 1 1 1 1 1 1 1 2 1 2 2 2 2 2 1\n",
      " [482] 1 1 1 1 1 2 1 1 1 1 1 2 2 2 2 1 1 2 1 1 1 1 1 2 2 1 2 1 2 2 1 1 1 1 1 2 2\n",
      " [519] 1 1 2 1 1 1 1 1 1 1 1 2 2 1 2 2 1 1 1 2 1 1 1 2 2 2 1 1 2 1 1 2 2 2 1 1 2\n",
      " [556] 2 1 1 2 2 1 1 1 2 2 1 1 2 1 1 1 1 1 1 1 1 1 1 1 2 1 1 1 1 1 2 1 1 1 1 2 1\n",
      " [593] 1 1 2 1 1 1 1 1 1 1 2 1 1 1 1 1 1 1 1 2 2 1 2 1 1 2 2 1 2 2 1 2 1 2 2 1 1\n",
      " [630] 1 1 1 1 2 1 2 1 1 1 1 1 1 2 2 1 1 2 2 1 1 1 1 1 2 2 1 1 2 2 1 2 1 1 2 1 1\n",
      " [667] 2 1 1 1 1 2 1 1 1 1 2 1 1 1 2 1 2 2 1 2 2 2 1 1 1 1 2 1 2 1 2 1 1 1 1 1 1\n",
      " [704] 2 1 1 1 1 1 2 1 2 2 1 1 1 1 1 2 1 1 1 1 2 1 1 1 2 2 2 1 1 1 2 1 2 1 1 1 2\n",
      " [741] 2 1 1 2 1 1 2 1 2 2 1 1 1 1 2 1 1 1 2 2 1 2 2 1 1 2 2 1 1 1 1 2 1 1 1 1 1\n",
      " [778] 2 1 1 1 1 1 1 1 1 1 1 1 1 2 1 1 1 1 1 1 1 1 1 1 1 2 1 1 1 1 1 1 1 1 1 1 1\n",
      " [815] 1 2 2 1 2 2 1 1 1 2 1 1 2 1 1 1 1 1 2 2 1 1 1 1 1 1 1 2 2 1 1 1 1 1 2 1 1\n",
      " [852] 2 1 2 1 1 1 1 1 2 1 1 1 1 1 1 1 1 2 1 1 1 1 2 2 2 1 2 1 1 2 2 1 1 1 2 1 1\n",
      " [889] 2 1 1 2 1 1 1 1 1 1 1 2 2 1 1 2 1 2 1 1 2 1 1 2 2 1 1 1 1 2 2 1 1 1 1 1 2\n",
      " [926] 2 2 2 1 1 2 2 1 1 1 2 1 1 2 1 1 2 1 1 1 2 1 2 1 1 1 1 1 2 1 1 2 1 1 1 1 1\n",
      " [963] 1 1 1 1 1 1 1 1 1 2 1 1 1 2 1 1 1 1 1 1 1 2 2 1 2 1 2 1 1 1 1 2 1 1 2 1 1\n",
      "[1000] 1\n"
     ]
    }
   ],
   "source": [
    "amostra = sample(2,1000,replace=T,prob=c(0.7,0.3))\n",
    "print(amostra)"
   ]
  },
  {
   "cell_type": "code",
   "execution_count": 5,
   "metadata": {},
   "outputs": [
    {
     "data": {
      "text/html": [
       "703"
      ],
      "text/latex": [
       "703"
      ],
      "text/markdown": [
       "703"
      ],
      "text/plain": [
       "[1] 703"
      ]
     },
     "metadata": {},
     "output_type": "display_data"
    },
    {
     "data": {
      "text/html": [
       "297"
      ],
      "text/latex": [
       "297"
      ],
      "text/markdown": [
       "297"
      ],
      "text/plain": [
       "[1] 297"
      ]
     },
     "metadata": {},
     "output_type": "display_data"
    }
   ],
   "source": [
    "length(amostra[amostra==1])\n",
    "length(amostra[amostra==2])"
   ]
  },
  {
   "cell_type": "code",
   "execution_count": 6,
   "metadata": {},
   "outputs": [
    {
     "data": {
      "text/html": [
       "<ol class=list-inline>\n",
       "\t<li>703</li>\n",
       "\t<li>21</li>\n",
       "</ol>\n"
      ],
      "text/latex": [
       "\\begin{enumerate*}\n",
       "\\item 703\n",
       "\\item 21\n",
       "\\end{enumerate*}\n"
      ],
      "text/markdown": [
       "1. 703\n",
       "2. 21\n",
       "\n",
       "\n"
      ],
      "text/plain": [
       "[1] 703  21"
      ]
     },
     "metadata": {},
     "output_type": "display_data"
    },
    {
     "data": {
      "text/html": [
       "<ol class=list-inline>\n",
       "\t<li>297</li>\n",
       "\t<li>21</li>\n",
       "</ol>\n"
      ],
      "text/latex": [
       "\\begin{enumerate*}\n",
       "\\item 297\n",
       "\\item 21\n",
       "\\end{enumerate*}\n"
      ],
      "text/markdown": [
       "1. 297\n",
       "2. 21\n",
       "\n",
       "\n"
      ],
      "text/plain": [
       "[1] 297  21"
      ]
     },
     "metadata": {},
     "output_type": "display_data"
    }
   ],
   "source": [
    "creditotreino = credito[amostra==1,]\n",
    "creditoteste = credito[amostra==2,]\n",
    "dim(creditotreino)\n",
    "dim(creditoteste)"
   ]
  },
  {
   "cell_type": "code",
   "execution_count": 7,
   "metadata": {},
   "outputs": [
    {
     "data": {
      "text/plain": [
       "\n",
       "Call:\n",
       "svm(formula = class ~ ., data = creditotreino)\n",
       "\n",
       "\n",
       "Parameters:\n",
       "   SVM-Type:  C-classification \n",
       " SVM-Kernel:  radial \n",
       "       cost:  1 \n",
       "\n",
       "Number of Support Vectors:  431\n"
      ]
     },
     "metadata": {},
     "output_type": "display_data"
    }
   ],
   "source": [
    "modelo = svm(class ~ . , creditotreino)\n",
    "modelo"
   ]
  },
  {
   "cell_type": "code",
   "execution_count": 8,
   "metadata": {},
   "outputs": [
    {
     "data": {
      "text/plain": [
       "\n",
       "Call:\n",
       "svm(formula = class ~ ., data = creditotreino)\n",
       "\n",
       "\n",
       "Parameters:\n",
       "   SVM-Type:  C-classification \n",
       " SVM-Kernel:  radial \n",
       "       cost:  1 \n",
       "\n",
       "Number of Support Vectors:  431\n",
       "\n",
       " ( 226 205 )\n",
       "\n",
       "\n",
       "Number of Classes:  2 \n",
       "\n",
       "Levels: \n",
       " bad good\n",
       "\n",
       "\n"
      ]
     },
     "metadata": {},
     "output_type": "display_data"
    }
   ],
   "source": [
    "summary(modelo)"
   ]
  },
  {
   "cell_type": "code",
   "execution_count": 9,
   "metadata": {},
   "outputs": [
    {
     "name": "stdout",
     "output_type": "stream",
     "text": [
      "   2    4    5    6    9   10   12   14   16   17   18   19   27   28   30   31 \n",
      " bad good good good good  bad  bad good good good  bad  bad good good  bad good \n",
      "  33   34   42   44   55   56   61   62   65   67   68   70   71   72   80   83 \n",
      "good good good good good good good good good good good good good good good good \n",
      "  88   97  103  105  110  114  121  122  129  130  135  137  150  151  152  154 \n",
      "good good good good good good good good good good good good good good good good \n",
      " 158  161  165  168  169  170  171  172  174  176  178  181  182  187  189  193 \n",
      "good good good good good good  bad good good good good good good good good good \n",
      " 195  202  206  209  212  218  224  227  228  229  236  240  244  246  254  256 \n",
      " bad good good  bad good good good good good good  bad good good good good good \n",
      " 258  266  272  275  284  285  287  290  292  298  299  301  304  306  307  312 \n",
      "good good good  bad good good  bad good good good good good good good good good \n",
      " 314  318  319  324  326  331  332  339  345  346  348  349  356  360  363  366 \n",
      "good good good good good good good  bad good good good good good  bad good good \n",
      " 368  382  383  385  388  396  398  400  401  405  408  416  418  420  421  426 \n",
      "good good good good good good good good good good good good  bad good good good \n",
      " 427  430  432  438  442  446  453  458  463  474  476  477  478  479  480  487 \n",
      "good good good good good good good good good good  bad good good good good good \n",
      " 493  494  495  496  499  505  506  508  510  511  517  518  521  530  531  533 \n",
      "good good good good good  bad good good good good good good good good good good \n",
      " 534  538  542  543  544  547  550  551  552  555  556  559  560  564  565  568 \n",
      "good good good good good good good good good good good good good good good good \n",
      " 580  586  591  595  603  612  613  615  618  619  621  622  624  626  627  634 \n",
      "good good good good  bad good good good good good good good  bad good good good \n",
      " 636  643  644  647  648  654  655  658  659  661  664  667  672  677  681  683 \n",
      "good good good  bad good good good good  bad good good good good good good good \n",
      " 684  686  687  688  693  695  697  704  710  712  713  719  724  728  729  730 \n",
      "good  bad good good good good good good good good good good good  bad  bad good \n",
      " 734  736  740  741  744  747  749  750  755  759  760  762  763  766  767  772 \n",
      "good good  bad good good  bad good good good good good good good good  bad  bad \n",
      " 778  791  803  816  817  819  820  824  827  833  834  842  843  849  852  854 \n",
      "good good good  bad good  bad good good good  bad good good good good good  bad \n",
      " 860  869  874  875  876  878  881  882  886  889  892  900  901  904  906  909 \n",
      "good good good good good good good good good good good good good good good good \n",
      " 912  913  918  919  925  926  927  928  931  932  936  939  942  946  948  954 \n",
      "good good good good good good  bad  bad good good good  bad good  bad good  bad \n",
      " 957  972  976  984  985  987  989  994  997 \n",
      "good good good good good  bad  bad  bad  bad \n",
      "Levels: bad good\n"
     ]
    }
   ],
   "source": [
    "predicao = predict(modelo, creditoteste)\n",
    "print(predicao)"
   ]
  },
  {
   "cell_type": "code",
   "execution_count": 10,
   "metadata": {},
   "outputs": [
    {
     "data": {
      "text/html": [
       "<dl class=dl-horizontal>\n",
       "\t<dt>bad</dt>\n",
       "\t\t<dd>41</dd>\n",
       "\t<dt>good</dt>\n",
       "\t\t<dd>256</dd>\n",
       "</dl>\n"
      ],
      "text/latex": [
       "\\begin{description*}\n",
       "\\item[bad] 41\n",
       "\\item[good] 256\n",
       "\\end{description*}\n"
      ],
      "text/markdown": [
       "bad\n",
       ":   41good\n",
       ":   256\n",
       "\n"
      ],
      "text/plain": [
       " bad good \n",
       "  41  256 "
      ]
     },
     "metadata": {},
     "output_type": "display_data"
    }
   ],
   "source": [
    "summary(predicao)"
   ]
  },
  {
   "cell_type": "code",
   "execution_count": 11,
   "metadata": {},
   "outputs": [
    {
     "data": {
      "text/plain": [
       "      predicao\n",
       "       bad good\n",
       "  bad   23   70\n",
       "  good  18  186"
      ]
     },
     "metadata": {},
     "output_type": "display_data"
    }
   ],
   "source": [
    "confusao = table(creditoteste$class, predicao)\n",
    "confusao"
   ]
  },
  {
   "cell_type": "code",
   "execution_count": 12,
   "metadata": {},
   "outputs": [
    {
     "data": {
      "text/html": [
       "0.703703703703704"
      ],
      "text/latex": [
       "0.703703703703704"
      ],
      "text/markdown": [
       "0.703703703703704"
      ],
      "text/plain": [
       "[1] 0.7037037"
      ]
     },
     "metadata": {},
     "output_type": "display_data"
    }
   ],
   "source": [
    "taxaacerto = (confusao[1] + confusao[4]) / sum(confusao)\n",
    "taxaacerto"
   ]
  },
  {
   "cell_type": "markdown",
   "metadata": {},
   "source": [
    "### Seleção de atributos"
   ]
  },
  {
   "cell_type": "code",
   "execution_count": 13,
   "metadata": {},
   "outputs": [],
   "source": [
    "# install.packages(\"FSelector\", dependencies = T)\n",
    "library(FSelector)"
   ]
  },
  {
   "cell_type": "code",
   "execution_count": 14,
   "metadata": {},
   "outputs": [
    {
     "data": {
      "text/html": [
       "<table>\n",
       "<caption>A data.frame: 20 × 1</caption>\n",
       "<thead>\n",
       "\t<tr><th></th><th scope=col>attr_importance</th></tr>\n",
       "\t<tr><th></th><th scope=col>&lt;dbl&gt;</th></tr>\n",
       "</thead>\n",
       "<tbody>\n",
       "\t<tr><th scope=row>checking_status</th><td>48.584103</td></tr>\n",
       "\t<tr><th scope=row>duration</th><td>26.356143</td></tr>\n",
       "\t<tr><th scope=row>credit_history</th><td>23.287291</td></tr>\n",
       "\t<tr><th scope=row>purpose</th><td>13.336346</td></tr>\n",
       "\t<tr><th scope=row>credit_amount</th><td>19.637155</td></tr>\n",
       "\t<tr><th scope=row>savings_status</th><td>14.424207</td></tr>\n",
       "\t<tr><th scope=row>employment</th><td> 7.651239</td></tr>\n",
       "\t<tr><th scope=row>installment_commitment</th><td> 6.698175</td></tr>\n",
       "\t<tr><th scope=row>personal_status</th><td> 4.206503</td></tr>\n",
       "\t<tr><th scope=row>other_parties</th><td>12.122911</td></tr>\n",
       "\t<tr><th scope=row>residence_since</th><td> 6.282469</td></tr>\n",
       "\t<tr><th scope=row>property_magnitude</th><td>11.096150</td></tr>\n",
       "\t<tr><th scope=row>age</th><td>11.753640</td></tr>\n",
       "\t<tr><th scope=row>other_payment_plans</th><td>11.684920</td></tr>\n",
       "\t<tr><th scope=row>housing</th><td> 5.985653</td></tr>\n",
       "\t<tr><th scope=row>existing_credits</th><td> 7.278236</td></tr>\n",
       "\t<tr><th scope=row>job</th><td> 3.722250</td></tr>\n",
       "\t<tr><th scope=row>num_dependents</th><td> 1.711549</td></tr>\n",
       "\t<tr><th scope=row>own_telephone</th><td> 3.269847</td></tr>\n",
       "\t<tr><th scope=row>foreign_worker</th><td> 2.574737</td></tr>\n",
       "</tbody>\n",
       "</table>\n"
      ],
      "text/latex": [
       "A data.frame: 20 × 1\n",
       "\\begin{tabular}{r|l}\n",
       "  & attr\\_importance\\\\\n",
       "  & <dbl>\\\\\n",
       "\\hline\n",
       "\tchecking\\_status & 48.584103\\\\\n",
       "\tduration & 26.356143\\\\\n",
       "\tcredit\\_history & 23.287291\\\\\n",
       "\tpurpose & 13.336346\\\\\n",
       "\tcredit\\_amount & 19.637155\\\\\n",
       "\tsavings\\_status & 14.424207\\\\\n",
       "\temployment &  7.651239\\\\\n",
       "\tinstallment\\_commitment &  6.698175\\\\\n",
       "\tpersonal\\_status &  4.206503\\\\\n",
       "\tother\\_parties & 12.122911\\\\\n",
       "\tresidence\\_since &  6.282469\\\\\n",
       "\tproperty\\_magnitude & 11.096150\\\\\n",
       "\tage & 11.753640\\\\\n",
       "\tother\\_payment\\_plans & 11.684920\\\\\n",
       "\thousing &  5.985653\\\\\n",
       "\texisting\\_credits &  7.278236\\\\\n",
       "\tjob &  3.722250\\\\\n",
       "\tnum\\_dependents &  1.711549\\\\\n",
       "\town\\_telephone &  3.269847\\\\\n",
       "\tforeign\\_worker &  2.574737\\\\\n",
       "\\end{tabular}\n"
      ],
      "text/markdown": [
       "\n",
       "A data.frame: 20 × 1\n",
       "\n",
       "| <!--/--> | attr_importance &lt;dbl&gt; |\n",
       "|---|---|\n",
       "| checking_status | 48.584103 |\n",
       "| duration | 26.356143 |\n",
       "| credit_history | 23.287291 |\n",
       "| purpose | 13.336346 |\n",
       "| credit_amount | 19.637155 |\n",
       "| savings_status | 14.424207 |\n",
       "| employment |  7.651239 |\n",
       "| installment_commitment |  6.698175 |\n",
       "| personal_status |  4.206503 |\n",
       "| other_parties | 12.122911 |\n",
       "| residence_since |  6.282469 |\n",
       "| property_magnitude | 11.096150 |\n",
       "| age | 11.753640 |\n",
       "| other_payment_plans | 11.684920 |\n",
       "| housing |  5.985653 |\n",
       "| existing_credits |  7.278236 |\n",
       "| job |  3.722250 |\n",
       "| num_dependents |  1.711549 |\n",
       "| own_telephone |  3.269847 |\n",
       "| foreign_worker |  2.574737 |\n",
       "\n"
      ],
      "text/plain": [
       "                       attr_importance\n",
       "checking_status        48.584103      \n",
       "duration               26.356143      \n",
       "credit_history         23.287291      \n",
       "purpose                13.336346      \n",
       "credit_amount          19.637155      \n",
       "savings_status         14.424207      \n",
       "employment              7.651239      \n",
       "installment_commitment  6.698175      \n",
       "personal_status         4.206503      \n",
       "other_parties          12.122911      \n",
       "residence_since         6.282469      \n",
       "property_magnitude     11.096150      \n",
       "age                    11.753640      \n",
       "other_payment_plans    11.684920      \n",
       "housing                 5.985653      \n",
       "existing_credits        7.278236      \n",
       "job                     3.722250      \n",
       "num_dependents          1.711549      \n",
       "own_telephone           3.269847      \n",
       "foreign_worker          2.574737      "
      ]
     },
     "metadata": {},
     "output_type": "display_data"
    }
   ],
   "source": [
    "random.forest.importance(class ~ . , credito)"
   ]
  },
  {
   "cell_type": "markdown",
   "metadata": {},
   "source": [
    "### Melhorando modelo"
   ]
  },
  {
   "cell_type": "code",
   "execution_count": 15,
   "metadata": {},
   "outputs": [
    {
     "data": {
      "text/plain": [
       "\n",
       "Call:\n",
       "svm(formula = class ~ checking_status + duration + credit_history + \n",
       "    purpose, data = creditotreino)\n",
       "\n",
       "\n",
       "Parameters:\n",
       "   SVM-Type:  C-classification \n",
       " SVM-Kernel:  radial \n",
       "       cost:  1 \n",
       "\n",
       "Number of Support Vectors:  409\n",
       "\n",
       " ( 209 200 )\n",
       "\n",
       "\n",
       "Number of Classes:  2 \n",
       "\n",
       "Levels: \n",
       " bad good\n",
       "\n",
       "\n"
      ]
     },
     "metadata": {},
     "output_type": "display_data"
    }
   ],
   "source": [
    "modelo = svm(class ~ checking_status + duration + credit_history + purpose, creditotreino)\n",
    "summary(modelo)"
   ]
  },
  {
   "cell_type": "code",
   "execution_count": 16,
   "metadata": {},
   "outputs": [
    {
     "name": "stdout",
     "output_type": "stream",
     "text": [
      "   2    4    5    6    9   10   12   14   16   17   18   19   27   28   30   31 \n",
      " bad  bad  bad good good good  bad good good good  bad good good good  bad good \n",
      "  33   34   42   44   55   56   61   62   65   67   68   70   71   72   80   83 \n",
      "good good good good good good good good good good good good good good good good \n",
      "  88   97  103  105  110  114  121  122  129  130  135  137  150  151  152  154 \n",
      " bad good good good good good good good good good good good good good good good \n",
      " 158  161  165  168  169  170  171  172  174  176  178  181  182  187  189  193 \n",
      "good good good good good good  bad good good good good good good good good good \n",
      " 195  202  206  209  212  218  224  227  228  229  236  240  244  246  254  256 \n",
      " bad good good good good good good  bad good good good  bad good good good good \n",
      " 258  266  272  275  284  285  287  290  292  298  299  301  304  306  307  312 \n",
      "good good good  bad good good  bad good good good good good good good good good \n",
      " 314  318  319  324  326  331  332  339  345  346  348  349  356  360  363  366 \n",
      "good good good good good good good good good good good good good  bad good good \n",
      " 368  382  383  385  388  396  398  400  401  405  408  416  418  420  421  426 \n",
      "good good good good good good good good good good good good good good good good \n",
      " 427  430  432  438  442  446  453  458  463  474  476  477  478  479  480  487 \n",
      "good good good good good good good good good good  bad good good good good good \n",
      " 493  494  495  496  499  505  506  508  510  511  517  518  521  530  531  533 \n",
      "good good good good good  bad good good good good good good good good  bad good \n",
      " 534  538  542  543  544  547  550  551  552  555  556  559  560  564  565  568 \n",
      "good good good  bad good good good good good good good  bad good  bad good good \n",
      " 580  586  591  595  603  612  613  615  618  619  621  622  624  626  627  634 \n",
      "good good good good good good good good good good good good good good good good \n",
      " 636  643  644  647  648  654  655  658  659  661  664  667  672  677  681  683 \n",
      "good good good  bad good good good good  bad good good good good good good good \n",
      " 684  686  687  688  693  695  697  704  710  712  713  719  724  728  729  730 \n",
      "good  bad good good good good good good good good good good good good  bad good \n",
      " 734  736  740  741  744  747  749  750  755  759  760  762  763  766  767  772 \n",
      "good good  bad  bad  bad good good good good good good good good good  bad  bad \n",
      " 778  791  803  816  817  819  820  824  827  833  834  842  843  849  852  854 \n",
      "good good good good good  bad good good good  bad good good good good good  bad \n",
      " 860  869  874  875  876  878  881  882  886  889  892  900  901  904  906  909 \n",
      "good good good good good good good good good good good good good good good good \n",
      " 912  913  918  919  925  926  927  928  931  932  936  939  942  946  948  954 \n",
      "good good good good  bad good good  bad good good good  bad good  bad good good \n",
      " 957  972  976  984  985  987  989  994  997 \n",
      "good good good  bad good  bad good  bad good \n",
      "Levels: bad good\n"
     ]
    }
   ],
   "source": [
    "predicao = predict(modelo, creditoteste)\n",
    "print(predicao)"
   ]
  },
  {
   "cell_type": "code",
   "execution_count": 17,
   "metadata": {},
   "outputs": [
    {
     "data": {
      "text/html": [
       "<dl class=dl-horizontal>\n",
       "\t<dt>bad</dt>\n",
       "\t\t<dd>39</dd>\n",
       "\t<dt>good</dt>\n",
       "\t\t<dd>258</dd>\n",
       "</dl>\n"
      ],
      "text/latex": [
       "\\begin{description*}\n",
       "\\item[bad] 39\n",
       "\\item[good] 258\n",
       "\\end{description*}\n"
      ],
      "text/markdown": [
       "bad\n",
       ":   39good\n",
       ":   258\n",
       "\n"
      ],
      "text/plain": [
       " bad good \n",
       "  39  258 "
      ]
     },
     "metadata": {},
     "output_type": "display_data"
    }
   ],
   "source": [
    "summary(predicao)"
   ]
  },
  {
   "cell_type": "code",
   "execution_count": 18,
   "metadata": {},
   "outputs": [
    {
     "data": {
      "text/plain": [
       "      predicao\n",
       "       bad good\n",
       "  bad   25   68\n",
       "  good  14  190"
      ]
     },
     "metadata": {},
     "output_type": "display_data"
    }
   ],
   "source": [
    "confusao = table(creditoteste$class, predicao)\n",
    "confusao"
   ]
  },
  {
   "cell_type": "code",
   "execution_count": 19,
   "metadata": {},
   "outputs": [
    {
     "data": {
      "text/html": [
       "0.723905723905724"
      ],
      "text/latex": [
       "0.723905723905724"
      ],
      "text/markdown": [
       "0.723905723905724"
      ],
      "text/plain": [
       "[1] 0.7239057"
      ]
     },
     "metadata": {},
     "output_type": "display_data"
    }
   ],
   "source": [
    "taxaacerto2 = (confusao[1] + confusao[4]) / sum(confusao)\n",
    "taxaacerto2"
   ]
  }
 ],
 "metadata": {
  "kernelspec": {
   "display_name": "R 3.3",
   "language": "R",
   "name": "ir33"
  },
  "language_info": {
   "codemirror_mode": "r",
   "file_extension": ".r",
   "mimetype": "text/x-r-source",
   "name": "R",
   "pygments_lexer": "r",
   "version": "3.6.1"
  }
 },
 "nbformat": 4,
 "nbformat_minor": 4
}
