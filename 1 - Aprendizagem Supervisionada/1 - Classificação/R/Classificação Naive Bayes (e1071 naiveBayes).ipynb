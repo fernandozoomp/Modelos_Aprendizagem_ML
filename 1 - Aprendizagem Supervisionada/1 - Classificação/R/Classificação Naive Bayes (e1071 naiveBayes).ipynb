{
 "cells": [
  {
   "cell_type": "code",
   "execution_count": 1,
   "metadata": {},
   "outputs": [],
   "source": [
    "#e1071\n",
    "#klaR"
   ]
  },
  {
   "cell_type": "markdown",
   "metadata": {},
   "source": [
    "### Classificação Naive Bayes"
   ]
  },
  {
   "cell_type": "code",
   "execution_count": 2,
   "metadata": {},
   "outputs": [],
   "source": [
    "# install.packages(\"e1071\", dependencies=T)\n",
    "library(e1071)"
   ]
  },
  {
   "cell_type": "code",
   "execution_count": 3,
   "metadata": {},
   "outputs": [
    {
     "data": {
      "text/html": [
       "<table>\n",
       "<caption>A data.frame: 6 × 21</caption>\n",
       "<thead>\n",
       "\t<tr><th></th><th scope=col>checking_status</th><th scope=col>duration</th><th scope=col>credit_history</th><th scope=col>purpose</th><th scope=col>credit_amount</th><th scope=col>savings_status</th><th scope=col>employment</th><th scope=col>installment_commitment</th><th scope=col>personal_status</th><th scope=col>other_parties</th><th scope=col>...</th><th scope=col>property_magnitude</th><th scope=col>age</th><th scope=col>other_payment_plans</th><th scope=col>housing</th><th scope=col>existing_credits</th><th scope=col>job</th><th scope=col>num_dependents</th><th scope=col>own_telephone</th><th scope=col>foreign_worker</th><th scope=col>class</th></tr>\n",
       "\t<tr><th></th><th scope=col>&lt;fct&gt;</th><th scope=col>&lt;dbl&gt;</th><th scope=col>&lt;fct&gt;</th><th scope=col>&lt;fct&gt;</th><th scope=col>&lt;dbl&gt;</th><th scope=col>&lt;fct&gt;</th><th scope=col>&lt;fct&gt;</th><th scope=col>&lt;dbl&gt;</th><th scope=col>&lt;fct&gt;</th><th scope=col>&lt;fct&gt;</th><th scope=col>...</th><th scope=col>&lt;fct&gt;</th><th scope=col>&lt;dbl&gt;</th><th scope=col>&lt;fct&gt;</th><th scope=col>&lt;fct&gt;</th><th scope=col>&lt;dbl&gt;</th><th scope=col>&lt;fct&gt;</th><th scope=col>&lt;dbl&gt;</th><th scope=col>&lt;fct&gt;</th><th scope=col>&lt;fct&gt;</th><th scope=col>&lt;fct&gt;</th></tr>\n",
       "</thead>\n",
       "<tbody>\n",
       "\t<tr><th scope=row>1</th><td><span style=white-space:pre-wrap>&lt;0           </span></td><td> 6</td><td>'critical/other existing credit'</td><td><span style=white-space:pre-wrap>radio/tv           </span></td><td>1169</td><td>'no known savings'</td><td><span style=white-space:pre-wrap>&gt;=7   </span></td><td>4</td><td><span style=white-space:pre-wrap>'male single'       </span></td><td><span style=white-space:pre-wrap>none     </span></td><td>...</td><td><span style=white-space:pre-wrap>'real estate'      </span></td><td>67</td><td>none</td><td><span style=white-space:pre-wrap>own       </span></td><td>2</td><td><span style=white-space:pre-wrap>skilled             </span></td><td>1</td><td>yes </td><td>yes</td><td>good</td></tr>\n",
       "\t<tr><th scope=row>2</th><td><span style=white-space:pre-wrap>0&lt;=X&lt;200     </span></td><td>48</td><td><span style=white-space:pre-wrap>'existing paid'                 </span></td><td><span style=white-space:pre-wrap>radio/tv           </span></td><td>5951</td><td><span style=white-space:pre-wrap>&lt;100              </span></td><td>1&lt;=X&lt;4</td><td>2</td><td>'female div/dep/mar'</td><td><span style=white-space:pre-wrap>none     </span></td><td>...</td><td><span style=white-space:pre-wrap>'real estate'      </span></td><td>22</td><td>none</td><td><span style=white-space:pre-wrap>own       </span></td><td>1</td><td><span style=white-space:pre-wrap>skilled             </span></td><td>1</td><td>none</td><td>yes</td><td>bad </td></tr>\n",
       "\t<tr><th scope=row>3</th><td>'no checking'</td><td>12</td><td>'critical/other existing credit'</td><td><span style=white-space:pre-wrap>education          </span></td><td>2096</td><td><span style=white-space:pre-wrap>&lt;100              </span></td><td>4&lt;=X&lt;7</td><td>2</td><td><span style=white-space:pre-wrap>'male single'       </span></td><td><span style=white-space:pre-wrap>none     </span></td><td>...</td><td><span style=white-space:pre-wrap>'real estate'      </span></td><td>49</td><td>none</td><td><span style=white-space:pre-wrap>own       </span></td><td>1</td><td>'unskilled resident'</td><td>2</td><td>none</td><td>yes</td><td>good</td></tr>\n",
       "\t<tr><th scope=row>4</th><td><span style=white-space:pre-wrap>&lt;0           </span></td><td>42</td><td><span style=white-space:pre-wrap>'existing paid'                 </span></td><td>furniture/equipment</td><td>7882</td><td><span style=white-space:pre-wrap>&lt;100              </span></td><td>4&lt;=X&lt;7</td><td>2</td><td><span style=white-space:pre-wrap>'male single'       </span></td><td>guarantor</td><td>...</td><td><span style=white-space:pre-wrap>'life insurance'   </span></td><td>45</td><td>none</td><td>'for free'</td><td>1</td><td><span style=white-space:pre-wrap>skilled             </span></td><td>2</td><td>none</td><td>yes</td><td>good</td></tr>\n",
       "\t<tr><th scope=row>5</th><td><span style=white-space:pre-wrap>&lt;0           </span></td><td>24</td><td><span style=white-space:pre-wrap>'delayed previously'            </span></td><td><span style=white-space:pre-wrap>'new car'          </span></td><td>4870</td><td><span style=white-space:pre-wrap>&lt;100              </span></td><td>1&lt;=X&lt;4</td><td>3</td><td><span style=white-space:pre-wrap>'male single'       </span></td><td><span style=white-space:pre-wrap>none     </span></td><td>...</td><td>'no known property'</td><td>53</td><td>none</td><td>'for free'</td><td>2</td><td><span style=white-space:pre-wrap>skilled             </span></td><td>2</td><td>none</td><td>yes</td><td>bad </td></tr>\n",
       "\t<tr><th scope=row>6</th><td>'no checking'</td><td>36</td><td><span style=white-space:pre-wrap>'existing paid'                 </span></td><td><span style=white-space:pre-wrap>education          </span></td><td>9055</td><td>'no known savings'</td><td>1&lt;=X&lt;4</td><td>2</td><td><span style=white-space:pre-wrap>'male single'       </span></td><td><span style=white-space:pre-wrap>none     </span></td><td>...</td><td>'no known property'</td><td>35</td><td>none</td><td>'for free'</td><td>1</td><td>'unskilled resident'</td><td>2</td><td>yes </td><td>yes</td><td>good</td></tr>\n",
       "</tbody>\n",
       "</table>\n"
      ],
      "text/latex": [
       "A data.frame: 6 × 21\n",
       "\\begin{tabular}{r|lllllllllllllllllllll}\n",
       "  & checking\\_status & duration & credit\\_history & purpose & credit\\_amount & savings\\_status & employment & installment\\_commitment & personal\\_status & other\\_parties & ... & property\\_magnitude & age & other\\_payment\\_plans & housing & existing\\_credits & job & num\\_dependents & own\\_telephone & foreign\\_worker & class\\\\\n",
       "  & <fct> & <dbl> & <fct> & <fct> & <dbl> & <fct> & <fct> & <dbl> & <fct> & <fct> & ... & <fct> & <dbl> & <fct> & <fct> & <dbl> & <fct> & <dbl> & <fct> & <fct> & <fct>\\\\\n",
       "\\hline\n",
       "\t1 & <0            &  6 & 'critical/other existing credit' & radio/tv            & 1169 & 'no known savings' & >=7    & 4 & 'male single'        & none      & ... & 'real estate'       & 67 & none & own        & 2 & skilled              & 1 & yes  & yes & good\\\\\n",
       "\t2 & 0<=X<200      & 48 & 'existing paid'                  & radio/tv            & 5951 & <100               & 1<=X<4 & 2 & 'female div/dep/mar' & none      & ... & 'real estate'       & 22 & none & own        & 1 & skilled              & 1 & none & yes & bad \\\\\n",
       "\t3 & 'no checking' & 12 & 'critical/other existing credit' & education           & 2096 & <100               & 4<=X<7 & 2 & 'male single'        & none      & ... & 'real estate'       & 49 & none & own        & 1 & 'unskilled resident' & 2 & none & yes & good\\\\\n",
       "\t4 & <0            & 42 & 'existing paid'                  & furniture/equipment & 7882 & <100               & 4<=X<7 & 2 & 'male single'        & guarantor & ... & 'life insurance'    & 45 & none & 'for free' & 1 & skilled              & 2 & none & yes & good\\\\\n",
       "\t5 & <0            & 24 & 'delayed previously'             & 'new car'           & 4870 & <100               & 1<=X<4 & 3 & 'male single'        & none      & ... & 'no known property' & 53 & none & 'for free' & 2 & skilled              & 2 & none & yes & bad \\\\\n",
       "\t6 & 'no checking' & 36 & 'existing paid'                  & education           & 9055 & 'no known savings' & 1<=X<4 & 2 & 'male single'        & none      & ... & 'no known property' & 35 & none & 'for free' & 1 & 'unskilled resident' & 2 & yes  & yes & good\\\\\n",
       "\\end{tabular}\n"
      ],
      "text/markdown": [
       "\n",
       "A data.frame: 6 × 21\n",
       "\n",
       "| <!--/--> | checking_status &lt;fct&gt; | duration &lt;dbl&gt; | credit_history &lt;fct&gt; | purpose &lt;fct&gt; | credit_amount &lt;dbl&gt; | savings_status &lt;fct&gt; | employment &lt;fct&gt; | installment_commitment &lt;dbl&gt; | personal_status &lt;fct&gt; | other_parties &lt;fct&gt; | ... ... | property_magnitude &lt;fct&gt; | age &lt;dbl&gt; | other_payment_plans &lt;fct&gt; | housing &lt;fct&gt; | existing_credits &lt;dbl&gt; | job &lt;fct&gt; | num_dependents &lt;dbl&gt; | own_telephone &lt;fct&gt; | foreign_worker &lt;fct&gt; | class &lt;fct&gt; |\n",
       "|---|---|---|---|---|---|---|---|---|---|---|---|---|---|---|---|---|---|---|---|---|---|\n",
       "| 1 | &lt;0            |  6 | 'critical/other existing credit' | radio/tv            | 1169 | 'no known savings' | &gt;=7    | 4 | 'male single'        | none      | ... | 'real estate'       | 67 | none | own        | 2 | skilled              | 1 | yes  | yes | good |\n",
       "| 2 | 0&lt;=X&lt;200      | 48 | 'existing paid'                  | radio/tv            | 5951 | &lt;100               | 1&lt;=X&lt;4 | 2 | 'female div/dep/mar' | none      | ... | 'real estate'       | 22 | none | own        | 1 | skilled              | 1 | none | yes | bad  |\n",
       "| 3 | 'no checking' | 12 | 'critical/other existing credit' | education           | 2096 | &lt;100               | 4&lt;=X&lt;7 | 2 | 'male single'        | none      | ... | 'real estate'       | 49 | none | own        | 1 | 'unskilled resident' | 2 | none | yes | good |\n",
       "| 4 | &lt;0            | 42 | 'existing paid'                  | furniture/equipment | 7882 | &lt;100               | 4&lt;=X&lt;7 | 2 | 'male single'        | guarantor | ... | 'life insurance'    | 45 | none | 'for free' | 1 | skilled              | 2 | none | yes | good |\n",
       "| 5 | &lt;0            | 24 | 'delayed previously'             | 'new car'           | 4870 | &lt;100               | 1&lt;=X&lt;4 | 3 | 'male single'        | none      | ... | 'no known property' | 53 | none | 'for free' | 2 | skilled              | 2 | none | yes | bad  |\n",
       "| 6 | 'no checking' | 36 | 'existing paid'                  | education           | 9055 | 'no known savings' | 1&lt;=X&lt;4 | 2 | 'male single'        | none      | ... | 'no known property' | 35 | none | 'for free' | 1 | 'unskilled resident' | 2 | yes  | yes | good |\n",
       "\n"
      ],
      "text/plain": [
       "  checking_status duration credit_history                   purpose            \n",
       "1 <0               6       'critical/other existing credit' radio/tv           \n",
       "2 0<=X<200        48       'existing paid'                  radio/tv           \n",
       "3 'no checking'   12       'critical/other existing credit' education          \n",
       "4 <0              42       'existing paid'                  furniture/equipment\n",
       "5 <0              24       'delayed previously'             'new car'          \n",
       "6 'no checking'   36       'existing paid'                  education          \n",
       "  credit_amount savings_status     employment installment_commitment\n",
       "1 1169          'no known savings' >=7        4                     \n",
       "2 5951          <100               1<=X<4     2                     \n",
       "3 2096          <100               4<=X<7     2                     \n",
       "4 7882          <100               4<=X<7     2                     \n",
       "5 4870          <100               1<=X<4     3                     \n",
       "6 9055          'no known savings' 1<=X<4     2                     \n",
       "  personal_status      other_parties ... property_magnitude  age\n",
       "1 'male single'        none          ... 'real estate'       67 \n",
       "2 'female div/dep/mar' none          ... 'real estate'       22 \n",
       "3 'male single'        none          ... 'real estate'       49 \n",
       "4 'male single'        guarantor     ... 'life insurance'    45 \n",
       "5 'male single'        none          ... 'no known property' 53 \n",
       "6 'male single'        none          ... 'no known property' 35 \n",
       "  other_payment_plans housing    existing_credits job                 \n",
       "1 none                own        2                skilled             \n",
       "2 none                own        1                skilled             \n",
       "3 none                own        1                'unskilled resident'\n",
       "4 none                'for free' 1                skilled             \n",
       "5 none                'for free' 2                skilled             \n",
       "6 none                'for free' 1                'unskilled resident'\n",
       "  num_dependents own_telephone foreign_worker class\n",
       "1 1              yes           yes            good \n",
       "2 1              none          yes            bad  \n",
       "3 2              none          yes            good \n",
       "4 2              none          yes            good \n",
       "5 2              none          yes            bad  \n",
       "6 2              yes           yes            good "
      ]
     },
     "metadata": {},
     "output_type": "display_data"
    }
   ],
   "source": [
    "credito = read.csv(file.choose(), sep=\",\", header=T) # credit.csv\n",
    "fix(credito)\n",
    "head(credito)"
   ]
  },
  {
   "cell_type": "code",
   "execution_count": 4,
   "metadata": {},
   "outputs": [
    {
     "name": "stdout",
     "output_type": "stream",
     "text": [
      "[1] 1000   21\n"
     ]
    }
   ],
   "source": [
    "print(dim(credito))"
   ]
  },
  {
   "cell_type": "code",
   "execution_count": 5,
   "metadata": {},
   "outputs": [
    {
     "name": "stdout",
     "output_type": "stream",
     "text": [
      "   [1] 1 1 1 1 1 1 1 2 2 1 1 1 1 1 2 1 1 2 2 1 1 1 1 1 1 1 1 1 2 1 1 2 1 1 1 1 2\n",
      "  [38] 1 2 1 1 2 1 2 2 2 1 1 1 1 1 1 1 1 1 1 1 2 1 1 2 1 1 1 2 2 1 1 1 1 2 1 1 2\n",
      "  [75] 1 1 1 2 2 1 2 1 1 1 1 1 1 2 1 2 2 1 1 1 1 2 2 1 2 2 1 1 1 2 1 2 2 1 1 1 1\n",
      " [112] 2 2 1 1 2 1 2 1 1 2 1 1 2 1 2 1 1 1 1 1 1 1 1 1 2 2 1 1 1 2 2 1 2 1 1 1 1\n",
      " [149] 1 1 1 1 1 1 1 1 1 1 1 2 1 1 1 1 1 2 1 1 1 1 1 1 2 1 1 2 1 1 1 1 1 1 1 2 1\n",
      " [186] 2 1 2 1 1 2 1 1 2 1 2 1 1 1 2 1 2 1 1 1 1 1 1 1 1 1 2 1 1 1 1 2 1 1 1 1 1\n",
      " [223] 1 1 1 1 2 1 1 1 2 1 2 1 1 1 1 1 1 1 1 2 1 1 1 2 2 2 2 2 1 1 1 1 2 1 1 2 1\n",
      " [260] 2 1 1 1 1 1 1 1 1 2 1 1 1 1 1 2 1 1 2 2 1 1 1 2 1 1 1 1 1 1 1 1 1 1 1 1 1\n",
      " [297] 1 2 1 1 1 1 1 1 2 1 1 2 2 1 2 2 2 1 1 1 2 1 1 2 1 1 1 2 1 1 2 1 1 2 2 2 1\n",
      " [334] 1 1 1 2 1 1 2 1 1 1 1 1 1 2 1 1 1 1 2 2 1 2 1 1 1 2 1 1 1 1 1 2 2 2 2 1 1\n",
      " [371] 1 1 2 1 1 2 2 1 1 2 1 2 1 1 1 1 1 1 1 2 1 2 2 1 1 1 1 2 1 1 1 1 1 1 2 2 1\n",
      " [408] 1 1 1 2 1 2 1 1 1 1 1 1 1 2 1 1 2 2 2 1 1 2 1 2 1 2 1 2 2 1 1 2 2 1 1 1 1\n",
      " [445] 1 1 2 1 2 2 1 1 1 1 1 1 2 1 2 1 2 2 1 1 1 1 1 2 2 1 1 2 2 1 1 1 1 1 1 2 2\n",
      " [482] 2 1 1 1 1 1 1 2 1 1 1 1 1 1 1 1 1 2 1 1 1 2 1 1 1 1 1 2 1 2 1 1 2 2 1 1 1\n",
      " [519] 1 1 1 2 1 2 1 1 1 1 2 2 1 1 1 1 1 2 1 1 1 1 1 1 1 1 1 1 1 1 1 2 1 1 1 1 1\n",
      " [556] 2 1 1 2 1 1 1 1 1 2 1 1 1 1 2 1 1 2 1 1 1 2 2 1 1 2 2 2 1 1 1 1 1 1 1 1 2\n",
      " [593] 1 1 2 1 1 1 2 1 1 1 1 2 1 1 1 1 2 2 2 1 1 1 1 1 1 1 1 2 2 1 1 1 1 1 1 1 1\n",
      " [630] 1 1 2 1 2 1 1 2 1 2 2 1 1 2 1 1 1 1 1 1 2 1 1 2 2 1 2 1 2 1 1 1 1 2 1 1 1\n",
      " [667] 1 1 2 1 2 2 1 1 1 1 1 1 1 1 2 2 2 2 1 1 1 1 2 2 2 1 2 1 2 1 2 2 1 1 1 1 2\n",
      " [704] 1 1 1 1 1 1 1 2 1 1 1 1 1 2 2 1 1 1 1 1 2 2 1 1 2 1 2 1 1 1 1 2 1 1 1 1 2\n",
      " [741] 2 1 1 1 1 2 1 1 1 1 1 1 2 1 1 2 2 2 2 1 1 1 1 2 1 2 2 1 1 1 2 1 1 1 1 2 1\n",
      " [778] 1 1 2 1 1 2 2 1 2 1 2 1 1 2 1 1 1 1 2 1 2 1 2 1 1 2 1 2 2 1 1 1 1 1 1 1 1\n",
      " [815] 2 1 1 1 1 1 1 2 2 1 1 1 1 1 1 1 2 1 2 1 2 1 1 1 1 2 1 1 1 1 1 1 2 1 1 1 2\n",
      " [852] 1 1 1 1 1 2 1 1 1 2 1 2 1 1 2 1 1 1 1 1 1 1 1 1 1 1 1 1 1 1 1 1 1 1 1 1 1\n",
      " [889] 2 1 1 1 2 2 1 1 1 1 1 2 1 1 1 1 1 1 1 1 1 1 1 2 1 1 1 1 1 1 2 1 1 1 2 1 1\n",
      " [926] 2 2 1 1 1 2 1 1 1 1 1 1 1 2 1 2 1 1 1 1 1 1 1 1 1 2 2 2 1 1 1 1 2 1 1 2 1\n",
      " [963] 2 2 1 1 2 2 1 1 1 2 2 2 1 1 2 2 1 1 1 1 2 1 2 1 1 2 1 1 1 1 1 1 1 2 1 2 1\n",
      "[1000] 1\n"
     ]
    }
   ],
   "source": [
    "amostra = sample(2,1000,replace=T,prob=c(0.7,0.3))\n",
    "print(amostra)"
   ]
  },
  {
   "cell_type": "code",
   "execution_count": 6,
   "metadata": {},
   "outputs": [
    {
     "data": {
      "text/html": [
       "726"
      ],
      "text/latex": [
       "726"
      ],
      "text/markdown": [
       "726"
      ],
      "text/plain": [
       "[1] 726"
      ]
     },
     "metadata": {},
     "output_type": "display_data"
    },
    {
     "data": {
      "text/html": [
       "274"
      ],
      "text/latex": [
       "274"
      ],
      "text/markdown": [
       "274"
      ],
      "text/plain": [
       "[1] 274"
      ]
     },
     "metadata": {},
     "output_type": "display_data"
    }
   ],
   "source": [
    "length(amostra[amostra==1])\n",
    "length(amostra[amostra==2])"
   ]
  },
  {
   "cell_type": "code",
   "execution_count": 7,
   "metadata": {},
   "outputs": [
    {
     "data": {
      "text/html": [
       "<ol class=list-inline>\n",
       "\t<li>726</li>\n",
       "\t<li>21</li>\n",
       "</ol>\n"
      ],
      "text/latex": [
       "\\begin{enumerate*}\n",
       "\\item 726\n",
       "\\item 21\n",
       "\\end{enumerate*}\n"
      ],
      "text/markdown": [
       "1. 726\n",
       "2. 21\n",
       "\n",
       "\n"
      ],
      "text/plain": [
       "[1] 726  21"
      ]
     },
     "metadata": {},
     "output_type": "display_data"
    },
    {
     "data": {
      "text/html": [
       "<ol class=list-inline>\n",
       "\t<li>274</li>\n",
       "\t<li>21</li>\n",
       "</ol>\n"
      ],
      "text/latex": [
       "\\begin{enumerate*}\n",
       "\\item 274\n",
       "\\item 21\n",
       "\\end{enumerate*}\n"
      ],
      "text/markdown": [
       "1. 274\n",
       "2. 21\n",
       "\n",
       "\n"
      ],
      "text/plain": [
       "[1] 274  21"
      ]
     },
     "metadata": {},
     "output_type": "display_data"
    }
   ],
   "source": [
    "creditotreino = credito[amostra==1,]\n",
    "creditoteste = credito[amostra==2,]\n",
    "dim(creditotreino)\n",
    "dim(creditoteste)"
   ]
  },
  {
   "cell_type": "code",
   "execution_count": 8,
   "metadata": {},
   "outputs": [
    {
     "data": {
      "text/plain": [
       "\n",
       "Naive Bayes Classifier for Discrete Predictors\n",
       "\n",
       "Call:\n",
       "naiveBayes.default(x = X, y = Y, laplace = laplace)\n",
       "\n",
       "A-priori probabilities:\n",
       "Y\n",
       "      bad      good \n",
       "0.2906336 0.7093664 \n",
       "\n",
       "Conditional probabilities:\n",
       "      checking_status\n",
       "Y      'no checking'         <0      >=200   0<=X<200\n",
       "  bad     0.13744076 0.44075829 0.04265403 0.37914692\n",
       "  good    0.50097087 0.20194175 0.06796117 0.22912621\n",
       "\n",
       "      duration\n",
       "Y          [,1]     [,2]\n",
       "  bad  25.30806 13.52546\n",
       "  good 19.49126 11.24460\n",
       "\n",
       "      credit_history\n",
       "Y      'all paid' 'critical/other existing credit' 'delayed previously'\n",
       "  bad  0.08530806                       0.16587678           0.10426540\n",
       "  good 0.03689320                       0.35533981           0.08737864\n",
       "      credit_history\n",
       "Y      'existing paid' 'no credits/all paid'\n",
       "  bad       0.54502370            0.09952607\n",
       "  good      0.50097087            0.01941748\n",
       "\n",
       "      purpose\n",
       "Y      'domestic appliance'   'new car'  'used car'    business   education\n",
       "  bad           0.014218009 0.317535545 0.056872038 0.113744076 0.066350711\n",
       "  good          0.011650485 0.207766990 0.132038835 0.083495146 0.042718447\n",
       "      purpose\n",
       "Y      furniture/equipment       other    radio/tv     repairs  retraining\n",
       "  bad          0.194312796 0.014218009 0.194312796 0.023696682 0.004739336\n",
       "  good         0.166990291 0.011650485 0.310679612 0.021359223 0.011650485\n",
       "\n",
       "      credit_amount\n",
       "Y          [,1]     [,2]\n",
       "  bad  3887.621 3495.517\n",
       "  good 3056.913 2514.872\n",
       "\n",
       "      savings_status\n",
       "Y      'no known savings'       <100     >=1000 100<=X<500 500<=X<1000\n",
       "  bad          0.10426540 0.72985782 0.01421801 0.11848341  0.03317536\n",
       "  good         0.21941748 0.53980583 0.06019417 0.09514563  0.08543689\n",
       "\n",
       "      employment\n",
       "Y              <1        >=7     1<=X<4     4<=X<7 unemployed\n",
       "  bad  0.23696682 0.21800948 0.34597156 0.13270142 0.06635071\n",
       "  good 0.13786408 0.29126214 0.33398058 0.19029126 0.04660194\n",
       "\n",
       "      installment_commitment\n",
       "Y          [,1]     [,2]\n",
       "  bad  3.184834 1.081867\n",
       "  good 2.955340 1.134850\n",
       "\n",
       "      personal_status\n",
       "Y      'female div/dep/mar' 'male div/sep' 'male mar/wid' 'male single'\n",
       "  bad            0.34597156     0.05687204     0.09478673    0.50236967\n",
       "  good           0.28349515     0.04271845     0.09320388    0.58058252\n",
       "\n",
       "      other_parties\n",
       "Y      'co applicant'  guarantor       none\n",
       "  bad      0.04265403 0.03317536 0.92417062\n",
       "  good     0.03106796 0.06213592 0.90679612\n",
       "\n",
       "      residence_since\n",
       "Y          [,1]     [,2]\n",
       "  bad  2.872038 1.081324\n",
       "  good 2.866019 1.112150\n",
       "\n",
       "      property_magnitude\n",
       "Y      'life insurance' 'no known property' 'real estate'       car\n",
       "  bad         0.2369668           0.2274882     0.2085308 0.3270142\n",
       "  good        0.2291262           0.1300971     0.3067961 0.3339806\n",
       "\n",
       "      age\n",
       "Y          [,1]     [,2]\n",
       "  bad  34.06635 11.68456\n",
       "  good 36.30097 11.13259\n",
       "\n",
       "      other_payment_plans\n",
       "Y            bank       none     stores\n",
       "  bad  0.18957346 0.74407583 0.06635071\n",
       "  good 0.11456311 0.83883495 0.04660194\n",
       "\n",
       "      housing\n",
       "Y      'for free'        own       rent\n",
       "  bad  0.16113744 0.60189573 0.23696682\n",
       "  good 0.09514563 0.75339806 0.15145631\n",
       "\n",
       "      existing_credits\n",
       "Y          [,1]      [,2]\n",
       "  bad  1.369668 0.5570581\n",
       "  good 1.425243 0.5748826\n",
       "\n",
       "      job\n",
       "Y      'high qualif/self emp/mgmt' 'unemp/unskilled non res'\n",
       "  bad                   0.16587678                0.01895735\n",
       "  good                  0.15339806                0.01165049\n",
       "      job\n",
       "Y      'unskilled resident'    skilled\n",
       "  bad            0.21327014 0.60189573\n",
       "  good           0.20582524 0.62912621\n",
       "\n",
       "      num_dependents\n",
       "Y          [,1]      [,2]\n",
       "  bad  1.180095 0.3851802\n",
       "  good 1.161165 0.3680406\n",
       "\n",
       "      own_telephone\n",
       "Y           none       yes\n",
       "  bad  0.6350711 0.3649289\n",
       "  good 0.5650485 0.4349515\n",
       "\n",
       "      foreign_worker\n",
       "Y               no         yes\n",
       "  bad  0.004739336 0.995260664\n",
       "  good 0.046601942 0.953398058\n"
      ]
     },
     "metadata": {},
     "output_type": "display_data"
    }
   ],
   "source": [
    "modelo = naiveBayes(class ~ . , creditotreino)\n",
    "modelo"
   ]
  },
  {
   "cell_type": "code",
   "execution_count": 9,
   "metadata": {},
   "outputs": [
    {
     "name": "stdout",
     "output_type": "stream",
     "text": [
      "  [1] bad  good bad  bad  bad  good bad  bad  good good good bad  good good good\n",
      " [16] good good good bad  good bad  good bad  bad  good bad  good good good good\n",
      " [31] bad  good bad  bad  good good good good good good good good bad  good good\n",
      " [46] good good good good good good good good good bad  good good bad  bad  good\n",
      " [61] good good good good good good good good bad  good good bad  good good good\n",
      " [76] good bad  good good bad  good good good good good good good good good good\n",
      " [91] good good good good good good bad  good good bad  good bad  good good bad \n",
      "[106] good good bad  good good good good good good good good good good good good\n",
      "[121] good good bad  bad  bad  good good good bad  good good good good bad  good\n",
      "[136] good good bad  good good good good good good good good good bad  good good\n",
      "[151] good good bad  good bad  good good good good good good good good good good\n",
      "[166] good good bad  good good bad  good good good bad  good bad  good good bad \n",
      "[181] bad  good good good good good good good good good good good good good good\n",
      "[196] good good good good good good good bad  good good bad  bad  good good bad \n",
      "[211] good good good bad  good bad  good good good good bad  good good good good\n",
      "[226] good good good bad  bad  bad  good bad  good bad  good good good good good\n",
      "[241] good good good good good good good bad  good bad  bad  bad  good bad  good\n",
      "[256] good good good good good good good good good good bad  bad  good good good\n",
      "[271] good good good good\n",
      "Levels: bad good\n"
     ]
    }
   ],
   "source": [
    "predicao = predict(modelo, creditoteste)\n",
    "print(predicao)"
   ]
  },
  {
   "cell_type": "code",
   "execution_count": 10,
   "metadata": {},
   "outputs": [
    {
     "data": {
      "text/html": [
       "<dl class=dl-horizontal>\n",
       "\t<dt>bad</dt>\n",
       "\t\t<dd>62</dd>\n",
       "\t<dt>good</dt>\n",
       "\t\t<dd>212</dd>\n",
       "</dl>\n"
      ],
      "text/latex": [
       "\\begin{description*}\n",
       "\\item[bad] 62\n",
       "\\item[good] 212\n",
       "\\end{description*}\n"
      ],
      "text/markdown": [
       "bad\n",
       ":   62good\n",
       ":   212\n",
       "\n"
      ],
      "text/plain": [
       " bad good \n",
       "  62  212 "
      ]
     },
     "metadata": {},
     "output_type": "display_data"
    }
   ],
   "source": [
    "summary(predicao)"
   ]
  },
  {
   "cell_type": "code",
   "execution_count": 11,
   "metadata": {},
   "outputs": [
    {
     "data": {
      "text/plain": [
       "      predicao\n",
       "       bad good\n",
       "  bad   40   49\n",
       "  good  22  163"
      ]
     },
     "metadata": {},
     "output_type": "display_data"
    }
   ],
   "source": [
    "confusao = table(creditoteste$class, predicao)\n",
    "confusao"
   ]
  },
  {
   "cell_type": "code",
   "execution_count": 12,
   "metadata": {},
   "outputs": [
    {
     "data": {
      "text/html": [
       "0.740875912408759"
      ],
      "text/latex": [
       "0.740875912408759"
      ],
      "text/markdown": [
       "0.740875912408759"
      ],
      "text/plain": [
       "[1] 0.7408759"
      ]
     },
     "metadata": {},
     "output_type": "display_data"
    }
   ],
   "source": [
    "taxaacerto = (confusao[1] + confusao[4]) / sum(confusao)\n",
    "taxaacerto"
   ]
  },
  {
   "cell_type": "code",
   "execution_count": 13,
   "metadata": {},
   "outputs": [
    {
     "data": {
      "text/html": [
       "0.259124087591241"
      ],
      "text/latex": [
       "0.259124087591241"
      ],
      "text/markdown": [
       "0.259124087591241"
      ],
      "text/plain": [
       "[1] 0.2591241"
      ]
     },
     "metadata": {},
     "output_type": "display_data"
    }
   ],
   "source": [
    "taxaerro = (confusao[2] + confusao[3]) / sum(confusao)\n",
    "taxaerro\n",
    "\n",
    "# taxaerro = 1 - taxaacerto"
   ]
  },
  {
   "cell_type": "code",
   "execution_count": 14,
   "metadata": {},
   "outputs": [
    {
     "data": {
      "text/html": [
       "<table>\n",
       "<caption>A data.frame: 1 × 20</caption>\n",
       "<thead>\n",
       "\t<tr><th></th><th scope=col>checking_status</th><th scope=col>duration</th><th scope=col>credit_history</th><th scope=col>purpose</th><th scope=col>credit_amount</th><th scope=col>savings_status</th><th scope=col>employment</th><th scope=col>installment_commitment</th><th scope=col>personal_status</th><th scope=col>other_parties</th><th scope=col>residence_since</th><th scope=col>property_magnitude</th><th scope=col>age</th><th scope=col>other_payment_plans</th><th scope=col>housing</th><th scope=col>existing_credits</th><th scope=col>job</th><th scope=col>num_dependents</th><th scope=col>own_telephone</th><th scope=col>foreign_worker</th></tr>\n",
       "\t<tr><th></th><th scope=col>&lt;fct&gt;</th><th scope=col>&lt;dbl&gt;</th><th scope=col>&lt;fct&gt;</th><th scope=col>&lt;fct&gt;</th><th scope=col>&lt;dbl&gt;</th><th scope=col>&lt;fct&gt;</th><th scope=col>&lt;fct&gt;</th><th scope=col>&lt;dbl&gt;</th><th scope=col>&lt;fct&gt;</th><th scope=col>&lt;fct&gt;</th><th scope=col>&lt;dbl&gt;</th><th scope=col>&lt;fct&gt;</th><th scope=col>&lt;dbl&gt;</th><th scope=col>&lt;fct&gt;</th><th scope=col>&lt;fct&gt;</th><th scope=col>&lt;dbl&gt;</th><th scope=col>&lt;fct&gt;</th><th scope=col>&lt;dbl&gt;</th><th scope=col>&lt;fct&gt;</th><th scope=col>&lt;fct&gt;</th></tr>\n",
       "</thead>\n",
       "<tbody>\n",
       "\t<tr><th scope=row>1</th><td>'no checking'</td><td>12</td><td>'existing paid'</td><td>radio/tv</td><td>804</td><td>&lt;100</td><td>&gt;=7</td><td>4</td><td>'male single'</td><td>none</td><td>4</td><td>car</td><td>38</td><td>none</td><td>own</td><td>1</td><td>skilled</td><td>1</td><td>none</td><td>yes</td></tr>\n",
       "</tbody>\n",
       "</table>\n"
      ],
      "text/latex": [
       "A data.frame: 1 × 20\n",
       "\\begin{tabular}{r|llllllllllllllllllll}\n",
       "  & checking\\_status & duration & credit\\_history & purpose & credit\\_amount & savings\\_status & employment & installment\\_commitment & personal\\_status & other\\_parties & residence\\_since & property\\_magnitude & age & other\\_payment\\_plans & housing & existing\\_credits & job & num\\_dependents & own\\_telephone & foreign\\_worker\\\\\n",
       "  & <fct> & <dbl> & <fct> & <fct> & <dbl> & <fct> & <fct> & <dbl> & <fct> & <fct> & <dbl> & <fct> & <dbl> & <fct> & <fct> & <dbl> & <fct> & <dbl> & <fct> & <fct>\\\\\n",
       "\\hline\n",
       "\t1 & 'no checking' & 12 & 'existing paid' & radio/tv & 804 & <100 & >=7 & 4 & 'male single' & none & 4 & car & 38 & none & own & 1 & skilled & 1 & none & yes\\\\\n",
       "\\end{tabular}\n"
      ],
      "text/markdown": [
       "\n",
       "A data.frame: 1 × 20\n",
       "\n",
       "| <!--/--> | checking_status &lt;fct&gt; | duration &lt;dbl&gt; | credit_history &lt;fct&gt; | purpose &lt;fct&gt; | credit_amount &lt;dbl&gt; | savings_status &lt;fct&gt; | employment &lt;fct&gt; | installment_commitment &lt;dbl&gt; | personal_status &lt;fct&gt; | other_parties &lt;fct&gt; | residence_since &lt;dbl&gt; | property_magnitude &lt;fct&gt; | age &lt;dbl&gt; | other_payment_plans &lt;fct&gt; | housing &lt;fct&gt; | existing_credits &lt;dbl&gt; | job &lt;fct&gt; | num_dependents &lt;dbl&gt; | own_telephone &lt;fct&gt; | foreign_worker &lt;fct&gt; |\n",
       "|---|---|---|---|---|---|---|---|---|---|---|---|---|---|---|---|---|---|---|---|---|\n",
       "| 1 | 'no checking' | 12 | 'existing paid' | radio/tv | 804 | &lt;100 | &gt;=7 | 4 | 'male single' | none | 4 | car | 38 | none | own | 1 | skilled | 1 | none | yes |\n",
       "\n"
      ],
      "text/plain": [
       "  checking_status duration credit_history  purpose  credit_amount\n",
       "1 'no checking'   12       'existing paid' radio/tv 804          \n",
       "  savings_status employment installment_commitment personal_status\n",
       "1 <100           >=7        4                      'male single'  \n",
       "  other_parties residence_since property_magnitude age other_payment_plans\n",
       "1 none          4               car                38  none               \n",
       "  housing existing_credits job     num_dependents own_telephone foreign_worker\n",
       "1 own     1                skilled 1              none          yes           "
      ]
     },
     "metadata": {},
     "output_type": "display_data"
    }
   ],
   "source": [
    "novocredito = read.csv(file.choose(), sep=\",\", header=T)\n",
    "fix(novocredito)\n",
    "novocredito"
   ]
  },
  {
   "cell_type": "code",
   "execution_count": 15,
   "metadata": {},
   "outputs": [
    {
     "name": "stdout",
     "output_type": "stream",
     "text": [
      "[1]  1 20\n"
     ]
    }
   ],
   "source": [
    "print(dim(novocredito))"
   ]
  },
  {
   "cell_type": "code",
   "execution_count": 16,
   "metadata": {},
   "outputs": [
    {
     "data": {
      "text/html": [
       "good\n",
       "<details>\n",
       "\t<summary style=display:list-item;cursor:pointer>\n",
       "\t\t<strong>Levels</strong>:\n",
       "\t</summary>\n",
       "\t<ol class=list-inline>\n",
       "\t\t<li>'bad'</li>\n",
       "\t\t<li>'good'</li>\n",
       "\t</ol>\n",
       "</details>"
      ],
      "text/latex": [
       "good\n",
       "\\emph{Levels}: \\begin{enumerate*}\n",
       "\\item 'bad'\n",
       "\\item 'good'\n",
       "\\end{enumerate*}\n"
      ],
      "text/markdown": [
       "good\n",
       "**Levels**: 1. 'bad'\n",
       "2. 'good'\n",
       "\n",
       "\n"
      ],
      "text/plain": [
       "[1] good\n",
       "Levels: bad good"
      ]
     },
     "metadata": {},
     "output_type": "display_data"
    }
   ],
   "source": [
    "predict(modelo, novocredito)"
   ]
  }
 ],
 "metadata": {
  "kernelspec": {
   "display_name": "R 3.3",
   "language": "R",
   "name": "ir33"
  },
  "language_info": {
   "codemirror_mode": "r",
   "file_extension": ".r",
   "mimetype": "text/x-r-source",
   "name": "R",
   "pygments_lexer": "r",
   "version": "3.6.1"
  }
 },
 "nbformat": 4,
 "nbformat_minor": 4
}
