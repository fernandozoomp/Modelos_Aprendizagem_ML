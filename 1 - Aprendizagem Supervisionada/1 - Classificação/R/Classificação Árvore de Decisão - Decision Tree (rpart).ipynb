{
 "cells": [
  {
   "cell_type": "markdown",
   "metadata": {},
   "source": [
    "### Classificação Árvore de Decisão - Decision Tree "
   ]
  },
  {
   "cell_type": "code",
   "execution_count": 1,
   "metadata": {},
   "outputs": [],
   "source": [
    "# install.packages(\"rpart\", dependencies=T)\n",
    "library(rpart)"
   ]
  },
  {
   "cell_type": "code",
   "execution_count": 2,
   "metadata": {},
   "outputs": [
    {
     "data": {
      "text/html": [
       "<table>\n",
       "<caption>A data.frame: 6 × 21</caption>\n",
       "<thead>\n",
       "\t<tr><th></th><th scope=col>checking_status</th><th scope=col>duration</th><th scope=col>credit_history</th><th scope=col>purpose</th><th scope=col>credit_amount</th><th scope=col>savings_status</th><th scope=col>employment</th><th scope=col>installment_commitment</th><th scope=col>personal_status</th><th scope=col>other_parties</th><th scope=col>...</th><th scope=col>property_magnitude</th><th scope=col>age</th><th scope=col>other_payment_plans</th><th scope=col>housing</th><th scope=col>existing_credits</th><th scope=col>job</th><th scope=col>num_dependents</th><th scope=col>own_telephone</th><th scope=col>foreign_worker</th><th scope=col>class</th></tr>\n",
       "\t<tr><th></th><th scope=col>&lt;fct&gt;</th><th scope=col>&lt;int&gt;</th><th scope=col>&lt;fct&gt;</th><th scope=col>&lt;fct&gt;</th><th scope=col>&lt;int&gt;</th><th scope=col>&lt;fct&gt;</th><th scope=col>&lt;fct&gt;</th><th scope=col>&lt;int&gt;</th><th scope=col>&lt;fct&gt;</th><th scope=col>&lt;fct&gt;</th><th scope=col>...</th><th scope=col>&lt;fct&gt;</th><th scope=col>&lt;int&gt;</th><th scope=col>&lt;fct&gt;</th><th scope=col>&lt;fct&gt;</th><th scope=col>&lt;int&gt;</th><th scope=col>&lt;fct&gt;</th><th scope=col>&lt;int&gt;</th><th scope=col>&lt;fct&gt;</th><th scope=col>&lt;fct&gt;</th><th scope=col>&lt;fct&gt;</th></tr>\n",
       "</thead>\n",
       "<tbody>\n",
       "\t<tr><th scope=row>1</th><td><span style=white-space:pre-wrap>&lt;0           </span></td><td> 6</td><td>'critical/other existing credit'</td><td><span style=white-space:pre-wrap>radio/tv           </span></td><td>1169</td><td>'no known savings'</td><td><span style=white-space:pre-wrap>&gt;=7   </span></td><td>4</td><td><span style=white-space:pre-wrap>'male single'       </span></td><td><span style=white-space:pre-wrap>none     </span></td><td>...</td><td><span style=white-space:pre-wrap>'real estate'      </span></td><td>67</td><td>none</td><td><span style=white-space:pre-wrap>own       </span></td><td>2</td><td><span style=white-space:pre-wrap>skilled             </span></td><td>1</td><td>yes </td><td>yes</td><td>good</td></tr>\n",
       "\t<tr><th scope=row>2</th><td><span style=white-space:pre-wrap>0&lt;=X&lt;200     </span></td><td>48</td><td><span style=white-space:pre-wrap>'existing paid'                 </span></td><td><span style=white-space:pre-wrap>radio/tv           </span></td><td>5951</td><td><span style=white-space:pre-wrap>&lt;100              </span></td><td>1&lt;=X&lt;4</td><td>2</td><td>'female div/dep/mar'</td><td><span style=white-space:pre-wrap>none     </span></td><td>...</td><td><span style=white-space:pre-wrap>'real estate'      </span></td><td>22</td><td>none</td><td><span style=white-space:pre-wrap>own       </span></td><td>1</td><td><span style=white-space:pre-wrap>skilled             </span></td><td>1</td><td>none</td><td>yes</td><td>bad </td></tr>\n",
       "\t<tr><th scope=row>3</th><td>'no checking'</td><td>12</td><td>'critical/other existing credit'</td><td><span style=white-space:pre-wrap>education          </span></td><td>2096</td><td><span style=white-space:pre-wrap>&lt;100              </span></td><td>4&lt;=X&lt;7</td><td>2</td><td><span style=white-space:pre-wrap>'male single'       </span></td><td><span style=white-space:pre-wrap>none     </span></td><td>...</td><td><span style=white-space:pre-wrap>'real estate'      </span></td><td>49</td><td>none</td><td><span style=white-space:pre-wrap>own       </span></td><td>1</td><td>'unskilled resident'</td><td>2</td><td>none</td><td>yes</td><td>good</td></tr>\n",
       "\t<tr><th scope=row>4</th><td><span style=white-space:pre-wrap>&lt;0           </span></td><td>42</td><td><span style=white-space:pre-wrap>'existing paid'                 </span></td><td>furniture/equipment</td><td>7882</td><td><span style=white-space:pre-wrap>&lt;100              </span></td><td>4&lt;=X&lt;7</td><td>2</td><td><span style=white-space:pre-wrap>'male single'       </span></td><td>guarantor</td><td>...</td><td><span style=white-space:pre-wrap>'life insurance'   </span></td><td>45</td><td>none</td><td>'for free'</td><td>1</td><td><span style=white-space:pre-wrap>skilled             </span></td><td>2</td><td>none</td><td>yes</td><td>good</td></tr>\n",
       "\t<tr><th scope=row>5</th><td><span style=white-space:pre-wrap>&lt;0           </span></td><td>24</td><td><span style=white-space:pre-wrap>'delayed previously'            </span></td><td><span style=white-space:pre-wrap>'new car'          </span></td><td>4870</td><td><span style=white-space:pre-wrap>&lt;100              </span></td><td>1&lt;=X&lt;4</td><td>3</td><td><span style=white-space:pre-wrap>'male single'       </span></td><td><span style=white-space:pre-wrap>none     </span></td><td>...</td><td>'no known property'</td><td>53</td><td>none</td><td>'for free'</td><td>2</td><td><span style=white-space:pre-wrap>skilled             </span></td><td>2</td><td>none</td><td>yes</td><td>bad </td></tr>\n",
       "\t<tr><th scope=row>6</th><td>'no checking'</td><td>36</td><td><span style=white-space:pre-wrap>'existing paid'                 </span></td><td><span style=white-space:pre-wrap>education          </span></td><td>9055</td><td>'no known savings'</td><td>1&lt;=X&lt;4</td><td>2</td><td><span style=white-space:pre-wrap>'male single'       </span></td><td><span style=white-space:pre-wrap>none     </span></td><td>...</td><td>'no known property'</td><td>35</td><td>none</td><td>'for free'</td><td>1</td><td>'unskilled resident'</td><td>2</td><td>yes </td><td>yes</td><td>good</td></tr>\n",
       "</tbody>\n",
       "</table>\n"
      ],
      "text/latex": [
       "A data.frame: 6 × 21\n",
       "\\begin{tabular}{r|lllllllllllllllllllll}\n",
       "  & checking\\_status & duration & credit\\_history & purpose & credit\\_amount & savings\\_status & employment & installment\\_commitment & personal\\_status & other\\_parties & ... & property\\_magnitude & age & other\\_payment\\_plans & housing & existing\\_credits & job & num\\_dependents & own\\_telephone & foreign\\_worker & class\\\\\n",
       "  & <fct> & <int> & <fct> & <fct> & <int> & <fct> & <fct> & <int> & <fct> & <fct> & ... & <fct> & <int> & <fct> & <fct> & <int> & <fct> & <int> & <fct> & <fct> & <fct>\\\\\n",
       "\\hline\n",
       "\t1 & <0            &  6 & 'critical/other existing credit' & radio/tv            & 1169 & 'no known savings' & >=7    & 4 & 'male single'        & none      & ... & 'real estate'       & 67 & none & own        & 2 & skilled              & 1 & yes  & yes & good\\\\\n",
       "\t2 & 0<=X<200      & 48 & 'existing paid'                  & radio/tv            & 5951 & <100               & 1<=X<4 & 2 & 'female div/dep/mar' & none      & ... & 'real estate'       & 22 & none & own        & 1 & skilled              & 1 & none & yes & bad \\\\\n",
       "\t3 & 'no checking' & 12 & 'critical/other existing credit' & education           & 2096 & <100               & 4<=X<7 & 2 & 'male single'        & none      & ... & 'real estate'       & 49 & none & own        & 1 & 'unskilled resident' & 2 & none & yes & good\\\\\n",
       "\t4 & <0            & 42 & 'existing paid'                  & furniture/equipment & 7882 & <100               & 4<=X<7 & 2 & 'male single'        & guarantor & ... & 'life insurance'    & 45 & none & 'for free' & 1 & skilled              & 2 & none & yes & good\\\\\n",
       "\t5 & <0            & 24 & 'delayed previously'             & 'new car'           & 4870 & <100               & 1<=X<4 & 3 & 'male single'        & none      & ... & 'no known property' & 53 & none & 'for free' & 2 & skilled              & 2 & none & yes & bad \\\\\n",
       "\t6 & 'no checking' & 36 & 'existing paid'                  & education           & 9055 & 'no known savings' & 1<=X<4 & 2 & 'male single'        & none      & ... & 'no known property' & 35 & none & 'for free' & 1 & 'unskilled resident' & 2 & yes  & yes & good\\\\\n",
       "\\end{tabular}\n"
      ],
      "text/markdown": [
       "\n",
       "A data.frame: 6 × 21\n",
       "\n",
       "| <!--/--> | checking_status &lt;fct&gt; | duration &lt;int&gt; | credit_history &lt;fct&gt; | purpose &lt;fct&gt; | credit_amount &lt;int&gt; | savings_status &lt;fct&gt; | employment &lt;fct&gt; | installment_commitment &lt;int&gt; | personal_status &lt;fct&gt; | other_parties &lt;fct&gt; | ... ... | property_magnitude &lt;fct&gt; | age &lt;int&gt; | other_payment_plans &lt;fct&gt; | housing &lt;fct&gt; | existing_credits &lt;int&gt; | job &lt;fct&gt; | num_dependents &lt;int&gt; | own_telephone &lt;fct&gt; | foreign_worker &lt;fct&gt; | class &lt;fct&gt; |\n",
       "|---|---|---|---|---|---|---|---|---|---|---|---|---|---|---|---|---|---|---|---|---|---|\n",
       "| 1 | &lt;0            |  6 | 'critical/other existing credit' | radio/tv            | 1169 | 'no known savings' | &gt;=7    | 4 | 'male single'        | none      | ... | 'real estate'       | 67 | none | own        | 2 | skilled              | 1 | yes  | yes | good |\n",
       "| 2 | 0&lt;=X&lt;200      | 48 | 'existing paid'                  | radio/tv            | 5951 | &lt;100               | 1&lt;=X&lt;4 | 2 | 'female div/dep/mar' | none      | ... | 'real estate'       | 22 | none | own        | 1 | skilled              | 1 | none | yes | bad  |\n",
       "| 3 | 'no checking' | 12 | 'critical/other existing credit' | education           | 2096 | &lt;100               | 4&lt;=X&lt;7 | 2 | 'male single'        | none      | ... | 'real estate'       | 49 | none | own        | 1 | 'unskilled resident' | 2 | none | yes | good |\n",
       "| 4 | &lt;0            | 42 | 'existing paid'                  | furniture/equipment | 7882 | &lt;100               | 4&lt;=X&lt;7 | 2 | 'male single'        | guarantor | ... | 'life insurance'    | 45 | none | 'for free' | 1 | skilled              | 2 | none | yes | good |\n",
       "| 5 | &lt;0            | 24 | 'delayed previously'             | 'new car'           | 4870 | &lt;100               | 1&lt;=X&lt;4 | 3 | 'male single'        | none      | ... | 'no known property' | 53 | none | 'for free' | 2 | skilled              | 2 | none | yes | bad  |\n",
       "| 6 | 'no checking' | 36 | 'existing paid'                  | education           | 9055 | 'no known savings' | 1&lt;=X&lt;4 | 2 | 'male single'        | none      | ... | 'no known property' | 35 | none | 'for free' | 1 | 'unskilled resident' | 2 | yes  | yes | good |\n",
       "\n"
      ],
      "text/plain": [
       "  checking_status duration credit_history                   purpose            \n",
       "1 <0               6       'critical/other existing credit' radio/tv           \n",
       "2 0<=X<200        48       'existing paid'                  radio/tv           \n",
       "3 'no checking'   12       'critical/other existing credit' education          \n",
       "4 <0              42       'existing paid'                  furniture/equipment\n",
       "5 <0              24       'delayed previously'             'new car'          \n",
       "6 'no checking'   36       'existing paid'                  education          \n",
       "  credit_amount savings_status     employment installment_commitment\n",
       "1 1169          'no known savings' >=7        4                     \n",
       "2 5951          <100               1<=X<4     2                     \n",
       "3 2096          <100               4<=X<7     2                     \n",
       "4 7882          <100               4<=X<7     2                     \n",
       "5 4870          <100               1<=X<4     3                     \n",
       "6 9055          'no known savings' 1<=X<4     2                     \n",
       "  personal_status      other_parties ... property_magnitude  age\n",
       "1 'male single'        none          ... 'real estate'       67 \n",
       "2 'female div/dep/mar' none          ... 'real estate'       22 \n",
       "3 'male single'        none          ... 'real estate'       49 \n",
       "4 'male single'        guarantor     ... 'life insurance'    45 \n",
       "5 'male single'        none          ... 'no known property' 53 \n",
       "6 'male single'        none          ... 'no known property' 35 \n",
       "  other_payment_plans housing    existing_credits job                 \n",
       "1 none                own        2                skilled             \n",
       "2 none                own        1                skilled             \n",
       "3 none                own        1                'unskilled resident'\n",
       "4 none                'for free' 1                skilled             \n",
       "5 none                'for free' 2                skilled             \n",
       "6 none                'for free' 1                'unskilled resident'\n",
       "  num_dependents own_telephone foreign_worker class\n",
       "1 1              yes           yes            good \n",
       "2 1              none          yes            bad  \n",
       "3 2              none          yes            good \n",
       "4 2              none          yes            good \n",
       "5 2              none          yes            bad  \n",
       "6 2              yes           yes            good "
      ]
     },
     "metadata": {},
     "output_type": "display_data"
    }
   ],
   "source": [
    "credito = read.csv(file.choose(), sep=\",\", header=T) # credit.csv\n",
    "head(credito)"
   ]
  },
  {
   "cell_type": "code",
   "execution_count": 3,
   "metadata": {},
   "outputs": [
    {
     "data": {
      "text/html": [
       "<ol class=list-inline>\n",
       "\t<li>728</li>\n",
       "\t<li>21</li>\n",
       "</ol>\n"
      ],
      "text/latex": [
       "\\begin{enumerate*}\n",
       "\\item 728\n",
       "\\item 21\n",
       "\\end{enumerate*}\n"
      ],
      "text/markdown": [
       "1. 728\n",
       "2. 21\n",
       "\n",
       "\n"
      ],
      "text/plain": [
       "[1] 728  21"
      ]
     },
     "metadata": {},
     "output_type": "display_data"
    },
    {
     "data": {
      "text/html": [
       "<ol class=list-inline>\n",
       "\t<li>272</li>\n",
       "\t<li>21</li>\n",
       "</ol>\n"
      ],
      "text/latex": [
       "\\begin{enumerate*}\n",
       "\\item 272\n",
       "\\item 21\n",
       "\\end{enumerate*}\n"
      ],
      "text/markdown": [
       "1. 272\n",
       "2. 21\n",
       "\n",
       "\n"
      ],
      "text/plain": [
       "[1] 272  21"
      ]
     },
     "metadata": {},
     "output_type": "display_data"
    }
   ],
   "source": [
    "amostra = sample(2,1000,replace=T, prob=c(0.7,0.3))\n",
    "creditotreino = credito[amostra==1,]\n",
    "creditoteste = credito[amostra==2,]\n",
    "dim(creditotreino)\n",
    "dim(creditoteste)"
   ]
  },
  {
   "cell_type": "code",
   "execution_count": 4,
   "metadata": {},
   "outputs": [
    {
     "data": {
      "text/plain": [
       "n= 728 \n",
       "\n",
       "node), split, n, loss, yval, (yprob)\n",
       "      * denotes terminal node\n",
       "\n",
       "  1) root 728 216 good (0.29670330 0.70329670)  \n",
       "    2) checking_status=<0,0<=X<200 403 177 good (0.43920596 0.56079404)  \n",
       "      4) duration>=33 85  29 bad (0.65882353 0.34117647)  \n",
       "        8) savings_status=<100,100<=X<500 70  18 bad (0.74285714 0.25714286)  \n",
       "         16) age< 26.5 17   0 bad (1.00000000 0.00000000) *\n",
       "         17) age>=26.5 53  18 bad (0.66037736 0.33962264)  \n",
       "           34) installment_commitment>=3.5 29   5 bad (0.82758621 0.17241379) *\n",
       "           35) installment_commitment< 3.5 24  11 good (0.45833333 0.54166667)  \n",
       "             70) duration>=47.5 8   1 bad (0.87500000 0.12500000) *\n",
       "             71) duration< 47.5 16   4 good (0.25000000 0.75000000) *\n",
       "        9) savings_status='no known savings',500<=X<1000 15   4 good (0.26666667 0.73333333) *\n",
       "      5) duration< 33 318 121 good (0.38050314 0.61949686)  \n",
       "       10) credit_history='all paid','no credits/all paid' 39  12 bad (0.69230769 0.30769231)  \n",
       "         20) purpose='new car',education,other,repairs 15   0 bad (1.00000000 0.00000000) *\n",
       "         21) purpose='used car',business,furniture/equipment,radio/tv,retraining 24  12 bad (0.50000000 0.50000000)  \n",
       "           42) housing='for free',rent 10   2 bad (0.80000000 0.20000000) *\n",
       "           43) housing=own 14   4 good (0.28571429 0.71428571) *\n",
       "       11) credit_history='critical/other existing credit','delayed previously','existing paid' 279  94 good (0.33691756 0.66308244)  \n",
       "         22) credit_amount>=7811.5 11   1 bad (0.90909091 0.09090909) *\n",
       "         23) credit_amount< 7811.5 268  84 good (0.31343284 0.68656716)  \n",
       "           46) duration>=11.5 210  75 good (0.35714286 0.64285714)  \n",
       "             92) credit_amount< 1301.5 56  25 bad (0.55357143 0.44642857)  \n",
       "              184) property_magnitude='no known property',car 17   1 bad (0.94117647 0.05882353) *\n",
       "              185) property_magnitude='life insurance','real estate' 39  15 good (0.38461538 0.61538462)  \n",
       "                370) purpose='domestic appliance','new car',education,retraining 15   5 bad (0.66666667 0.33333333) *\n",
       "                371) purpose=business,furniture/equipment,radio/tv 24   5 good (0.20833333 0.79166667) *\n",
       "             93) credit_amount>=1301.5 154  44 good (0.28571429 0.71428571) *\n",
       "           47) duration< 11.5 58   9 good (0.15517241 0.84482759) *\n",
       "    3) checking_status='no checking',>=200 325  39 good (0.12000000 0.88000000)  \n",
       "      6) other_payment_plans=bank,stores 52  15 good (0.28846154 0.71153846)  \n",
       "       12) purpose='new car',business,education 22  10 bad (0.54545455 0.45454545)  \n",
       "         24) personal_status='male div/sep','male single' 15   4 bad (0.73333333 0.26666667) *\n",
       "         25) personal_status='female div/dep/mar' 7   1 good (0.14285714 0.85714286) *\n",
       "       13) purpose='used car',furniture/equipment,other,radio/tv 30   3 good (0.10000000 0.90000000) *\n",
       "      7) other_payment_plans=none 273  24 good (0.08791209 0.91208791) *"
      ]
     },
     "metadata": {},
     "output_type": "display_data"
    }
   ],
   "source": [
    "arvore = rpart(class ~ . , data=creditotreino, method=\"class\")\n",
    "arvore"
   ]
  },
  {
   "cell_type": "code",
   "execution_count": 5,
   "metadata": {},
   "outputs": [
    {
     "data": {
      "image/png": "[encoded data removed]",
      "text/plain": [
       "plot without title"
      ]
     },
     "metadata": {
      "image/png": {
       "height": 420,
       "width": 420
      },
      "text/plain": {
       "height": 420,
       "width": 420
      }
     },
     "output_type": "display_data"
    }
   ],
   "source": [
    "plot(arvore)"
   ]
  },
  {
   "cell_type": "code",
   "execution_count": 6,
   "metadata": {},
   "outputs": [
    {
     "data": {
      "image/png": "[encoded data removed]",
      "text/plain": [
       "plot without title"
      ]
     },
     "metadata": {
      "image/png": {
       "height": 420,
       "width": 420
      },
      "text/plain": {
       "height": 420,
       "width": 420
      }
     },
     "output_type": "display_data"
    }
   ],
   "source": [
    "plot(arvore)\n",
    "text(arvore, use.n=T, all=T, cex=.8)"
   ]
  },
  {
   "cell_type": "code",
   "execution_count": 7,
   "metadata": {},
   "outputs": [
    {
     "data": {
      "text/html": [
       "<table>\n",
       "<caption>A matrix: 6 × 2 of type dbl</caption>\n",
       "<thead>\n",
       "\t<tr><th></th><th scope=col>bad</th><th scope=col>good</th></tr>\n",
       "</thead>\n",
       "<tbody>\n",
       "\t<tr><th scope=row>4</th><td>0.25000000</td><td>0.7500000</td></tr>\n",
       "\t<tr><th scope=row>5</th><td>0.28571429</td><td>0.7142857</td></tr>\n",
       "\t<tr><th scope=row>8</th><td>0.25000000</td><td>0.7500000</td></tr>\n",
       "\t<tr><th scope=row>10</th><td>0.28571429</td><td>0.7142857</td></tr>\n",
       "\t<tr><th scope=row>13</th><td>0.28571429</td><td>0.7142857</td></tr>\n",
       "\t<tr><th scope=row>17</th><td>0.08791209</td><td>0.9120879</td></tr>\n",
       "</tbody>\n",
       "</table>\n"
      ],
      "text/latex": [
       "A matrix: 6 × 2 of type dbl\n",
       "\\begin{tabular}{r|ll}\n",
       "  & bad & good\\\\\n",
       "\\hline\n",
       "\t4 & 0.25000000 & 0.7500000\\\\\n",
       "\t5 & 0.28571429 & 0.7142857\\\\\n",
       "\t8 & 0.25000000 & 0.7500000\\\\\n",
       "\t10 & 0.28571429 & 0.7142857\\\\\n",
       "\t13 & 0.28571429 & 0.7142857\\\\\n",
       "\t17 & 0.08791209 & 0.9120879\\\\\n",
       "\\end{tabular}\n"
      ],
      "text/markdown": [
       "\n",
       "A matrix: 6 × 2 of type dbl\n",
       "\n",
       "| <!--/--> | bad | good |\n",
       "|---|---|---|\n",
       "| 4 | 0.25000000 | 0.7500000 |\n",
       "| 5 | 0.28571429 | 0.7142857 |\n",
       "| 8 | 0.25000000 | 0.7500000 |\n",
       "| 10 | 0.28571429 | 0.7142857 |\n",
       "| 13 | 0.28571429 | 0.7142857 |\n",
       "| 17 | 0.08791209 | 0.9120879 |\n",
       "\n"
      ],
      "text/plain": [
       "   bad        good     \n",
       "4  0.25000000 0.7500000\n",
       "5  0.28571429 0.7142857\n",
       "8  0.25000000 0.7500000\n",
       "10 0.28571429 0.7142857\n",
       "13 0.28571429 0.7142857\n",
       "17 0.08791209 0.9120879"
      ]
     },
     "metadata": {},
     "output_type": "display_data"
    }
   ],
   "source": [
    "teste = predict(arvore, newdata=creditoteste)\n",
    "head(teste)"
   ]
  },
  {
   "cell_type": "code",
   "execution_count": 8,
   "metadata": {},
   "outputs": [
    {
     "data": {
      "text/html": [
       "<table>\n",
       "<caption>A data.frame: 6 × 23</caption>\n",
       "<thead>\n",
       "\t<tr><th></th><th scope=col>checking_status</th><th scope=col>duration</th><th scope=col>credit_history</th><th scope=col>purpose</th><th scope=col>credit_amount</th><th scope=col>savings_status</th><th scope=col>employment</th><th scope=col>installment_commitment</th><th scope=col>personal_status</th><th scope=col>other_parties</th><th scope=col>...</th><th scope=col>other_payment_plans</th><th scope=col>housing</th><th scope=col>existing_credits</th><th scope=col>job</th><th scope=col>num_dependents</th><th scope=col>own_telephone</th><th scope=col>foreign_worker</th><th scope=col>class</th><th scope=col>bad</th><th scope=col>good</th></tr>\n",
       "\t<tr><th></th><th scope=col>&lt;fct&gt;</th><th scope=col>&lt;dbl&gt;</th><th scope=col>&lt;fct&gt;</th><th scope=col>&lt;fct&gt;</th><th scope=col>&lt;dbl&gt;</th><th scope=col>&lt;fct&gt;</th><th scope=col>&lt;fct&gt;</th><th scope=col>&lt;dbl&gt;</th><th scope=col>&lt;fct&gt;</th><th scope=col>&lt;fct&gt;</th><th scope=col>...</th><th scope=col>&lt;fct&gt;</th><th scope=col>&lt;fct&gt;</th><th scope=col>&lt;dbl&gt;</th><th scope=col>&lt;fct&gt;</th><th scope=col>&lt;dbl&gt;</th><th scope=col>&lt;fct&gt;</th><th scope=col>&lt;fct&gt;</th><th scope=col>&lt;fct&gt;</th><th scope=col>&lt;dbl&gt;</th><th scope=col>&lt;dbl&gt;</th></tr>\n",
       "</thead>\n",
       "<tbody>\n",
       "\t<tr><th scope=row> </th><td><span style=white-space:pre-wrap>&lt;0           </span></td><td>42</td><td><span style=white-space:pre-wrap>'existing paid'                 </span></td><td>furniture/equipment</td><td>7882</td><td><span style=white-space:pre-wrap>&lt;100              </span></td><td><span style=white-space:pre-wrap>4&lt;=X&lt;7    </span></td><td>2</td><td><span style=white-space:pre-wrap>'male single'       </span></td><td>guarantor</td><td>...</td><td>none</td><td>'for free'</td><td>1</td><td><span style=white-space:pre-wrap>skilled                    </span></td><td>2</td><td>none</td><td>yes</td><td>good</td><td>0.25000000</td><td>0.7500000</td></tr>\n",
       "\t<tr><th scope=row>5</th><td><span style=white-space:pre-wrap>&lt;0           </span></td><td>24</td><td><span style=white-space:pre-wrap>'delayed previously'            </span></td><td><span style=white-space:pre-wrap>'new car'          </span></td><td>4870</td><td><span style=white-space:pre-wrap>&lt;100              </span></td><td><span style=white-space:pre-wrap>1&lt;=X&lt;4    </span></td><td>3</td><td><span style=white-space:pre-wrap>'male single'       </span></td><td><span style=white-space:pre-wrap>none     </span></td><td>...</td><td>none</td><td>'for free'</td><td>2</td><td><span style=white-space:pre-wrap>skilled                    </span></td><td>2</td><td>none</td><td>yes</td><td>bad </td><td>0.28571429</td><td>0.7142857</td></tr>\n",
       "\t<tr><th scope=row>8</th><td><span style=white-space:pre-wrap>0&lt;=X&lt;200     </span></td><td>36</td><td><span style=white-space:pre-wrap>'existing paid'                 </span></td><td><span style=white-space:pre-wrap>'used car'         </span></td><td>6948</td><td><span style=white-space:pre-wrap>&lt;100              </span></td><td><span style=white-space:pre-wrap>1&lt;=X&lt;4    </span></td><td>2</td><td><span style=white-space:pre-wrap>'male single'       </span></td><td><span style=white-space:pre-wrap>none     </span></td><td>...</td><td>none</td><td><span style=white-space:pre-wrap>rent      </span></td><td>1</td><td>'high qualif/self emp/mgmt'</td><td>1</td><td>yes </td><td>yes</td><td>good</td><td>0.25000000</td><td>0.7500000</td></tr>\n",
       "\t<tr><th scope=row>10</th><td><span style=white-space:pre-wrap>0&lt;=X&lt;200     </span></td><td>30</td><td>'critical/other existing credit'</td><td><span style=white-space:pre-wrap>'new car'          </span></td><td>5234</td><td><span style=white-space:pre-wrap>&lt;100              </span></td><td>unemployed</td><td>4</td><td><span style=white-space:pre-wrap>'male mar/wid'      </span></td><td><span style=white-space:pre-wrap>none     </span></td><td>...</td><td>none</td><td><span style=white-space:pre-wrap>own       </span></td><td>2</td><td>'high qualif/self emp/mgmt'</td><td>1</td><td>none</td><td>yes</td><td>bad </td><td>0.28571429</td><td>0.7142857</td></tr>\n",
       "\t<tr><th scope=row>13</th><td><span style=white-space:pre-wrap>0&lt;=X&lt;200     </span></td><td>12</td><td><span style=white-space:pre-wrap>'existing paid'                 </span></td><td><span style=white-space:pre-wrap>radio/tv           </span></td><td>1567</td><td><span style=white-space:pre-wrap>&lt;100              </span></td><td><span style=white-space:pre-wrap>1&lt;=X&lt;4    </span></td><td>1</td><td>'female div/dep/mar'</td><td><span style=white-space:pre-wrap>none     </span></td><td>...</td><td>none</td><td><span style=white-space:pre-wrap>own       </span></td><td>1</td><td><span style=white-space:pre-wrap>skilled                    </span></td><td>1</td><td>yes </td><td>yes</td><td>good</td><td>0.28571429</td><td>0.7142857</td></tr>\n",
       "\t<tr><th scope=row>17</th><td>'no checking'</td><td>24</td><td>'critical/other existing credit'</td><td><span style=white-space:pre-wrap>radio/tv           </span></td><td>2424</td><td>'no known savings'</td><td><span style=white-space:pre-wrap>&gt;=7       </span></td><td>4</td><td><span style=white-space:pre-wrap>'male single'       </span></td><td><span style=white-space:pre-wrap>none     </span></td><td>...</td><td>none</td><td><span style=white-space:pre-wrap>own       </span></td><td>2</td><td><span style=white-space:pre-wrap>skilled                    </span></td><td>1</td><td>none</td><td>yes</td><td>good</td><td>0.08791209</td><td>0.9120879</td></tr>\n",
       "</tbody>\n",
       "</table>\n"
      ],
      "text/latex": [
       "A data.frame: 6 × 23\n",
       "\\begin{tabular}{r|lllllllllllllllllllll}\n",
       "  & checking\\_status & duration & credit\\_history & purpose & credit\\_amount & savings\\_status & employment & installment\\_commitment & personal\\_status & other\\_parties & ... & other\\_payment\\_plans & housing & existing\\_credits & job & num\\_dependents & own\\_telephone & foreign\\_worker & class & bad & good\\\\\n",
       "  & <fct> & <dbl> & <fct> & <fct> & <dbl> & <fct> & <fct> & <dbl> & <fct> & <fct> & ... & <fct> & <fct> & <dbl> & <fct> & <dbl> & <fct> & <fct> & <fct> & <dbl> & <dbl>\\\\\n",
       "\\hline\n",
       "\t  & <0            & 42 & 'existing paid'                  & furniture/equipment & 7882 & <100               & 4<=X<7     & 2 & 'male single'        & guarantor & ... & none & 'for free' & 1 & skilled                     & 2 & none & yes & good & 0.25000000 & 0.7500000\\\\\n",
       "\t5 & <0            & 24 & 'delayed previously'             & 'new car'           & 4870 & <100               & 1<=X<4     & 3 & 'male single'        & none      & ... & none & 'for free' & 2 & skilled                     & 2 & none & yes & bad  & 0.28571429 & 0.7142857\\\\\n",
       "\t8 & 0<=X<200      & 36 & 'existing paid'                  & 'used car'          & 6948 & <100               & 1<=X<4     & 2 & 'male single'        & none      & ... & none & rent       & 1 & 'high qualif/self emp/mgmt' & 1 & yes  & yes & good & 0.25000000 & 0.7500000\\\\\n",
       "\t10 & 0<=X<200      & 30 & 'critical/other existing credit' & 'new car'           & 5234 & <100               & unemployed & 4 & 'male mar/wid'       & none      & ... & none & own        & 2 & 'high qualif/self emp/mgmt' & 1 & none & yes & bad  & 0.28571429 & 0.7142857\\\\\n",
       "\t13 & 0<=X<200      & 12 & 'existing paid'                  & radio/tv            & 1567 & <100               & 1<=X<4     & 1 & 'female div/dep/mar' & none      & ... & none & own        & 1 & skilled                     & 1 & yes  & yes & good & 0.28571429 & 0.7142857\\\\\n",
       "\t17 & 'no checking' & 24 & 'critical/other existing credit' & radio/tv            & 2424 & 'no known savings' & >=7        & 4 & 'male single'        & none      & ... & none & own        & 2 & skilled                     & 1 & none & yes & good & 0.08791209 & 0.9120879\\\\\n",
       "\\end{tabular}\n"
      ],
      "text/markdown": [
       "\n",
       "A data.frame: 6 × 23\n",
       "\n",
       "| <!--/--> | checking_status &lt;fct&gt; | duration &lt;dbl&gt; | credit_history &lt;fct&gt; | purpose &lt;fct&gt; | credit_amount &lt;dbl&gt; | savings_status &lt;fct&gt; | employment &lt;fct&gt; | installment_commitment &lt;dbl&gt; | personal_status &lt;fct&gt; | other_parties &lt;fct&gt; | ... ... | other_payment_plans &lt;fct&gt; | housing &lt;fct&gt; | existing_credits &lt;dbl&gt; | job &lt;fct&gt; | num_dependents &lt;dbl&gt; | own_telephone &lt;fct&gt; | foreign_worker &lt;fct&gt; | class &lt;fct&gt; | bad &lt;dbl&gt; | good &lt;dbl&gt; |\n",
       "|---|---|---|---|---|---|---|---|---|---|---|---|---|---|---|---|---|---|---|---|---|---|\n",
       "| <!----> | &lt;0            | 42 | 'existing paid'                  | furniture/equipment | 7882 | &lt;100               | 4&lt;=X&lt;7     | 2 | 'male single'        | guarantor | ... | none | 'for free' | 1 | skilled                     | 2 | none | yes | good | 0.25000000 | 0.7500000 |\n",
       "| 5 | &lt;0            | 24 | 'delayed previously'             | 'new car'           | 4870 | &lt;100               | 1&lt;=X&lt;4     | 3 | 'male single'        | none      | ... | none | 'for free' | 2 | skilled                     | 2 | none | yes | bad  | 0.28571429 | 0.7142857 |\n",
       "| 8 | 0&lt;=X&lt;200      | 36 | 'existing paid'                  | 'used car'          | 6948 | &lt;100               | 1&lt;=X&lt;4     | 2 | 'male single'        | none      | ... | none | rent       | 1 | 'high qualif/self emp/mgmt' | 1 | yes  | yes | good | 0.25000000 | 0.7500000 |\n",
       "| 10 | 0&lt;=X&lt;200      | 30 | 'critical/other existing credit' | 'new car'           | 5234 | &lt;100               | unemployed | 4 | 'male mar/wid'       | none      | ... | none | own        | 2 | 'high qualif/self emp/mgmt' | 1 | none | yes | bad  | 0.28571429 | 0.7142857 |\n",
       "| 13 | 0&lt;=X&lt;200      | 12 | 'existing paid'                  | radio/tv            | 1567 | &lt;100               | 1&lt;=X&lt;4     | 1 | 'female div/dep/mar' | none      | ... | none | own        | 1 | skilled                     | 1 | yes  | yes | good | 0.28571429 | 0.7142857 |\n",
       "| 17 | 'no checking' | 24 | 'critical/other existing credit' | radio/tv            | 2424 | 'no known savings' | &gt;=7        | 4 | 'male single'        | none      | ... | none | own        | 2 | skilled                     | 1 | none | yes | good | 0.08791209 | 0.9120879 |\n",
       "\n"
      ],
      "text/plain": [
       "   checking_status duration credit_history                  \n",
       "   <0              42       'existing paid'                 \n",
       "5  <0              24       'delayed previously'            \n",
       "8  0<=X<200        36       'existing paid'                 \n",
       "10 0<=X<200        30       'critical/other existing credit'\n",
       "13 0<=X<200        12       'existing paid'                 \n",
       "17 'no checking'   24       'critical/other existing credit'\n",
       "   purpose             credit_amount savings_status     employment\n",
       "   furniture/equipment 7882          <100               4<=X<7    \n",
       "5  'new car'           4870          <100               1<=X<4    \n",
       "8  'used car'          6948          <100               1<=X<4    \n",
       "10 'new car'           5234          <100               unemployed\n",
       "13 radio/tv            1567          <100               1<=X<4    \n",
       "17 radio/tv            2424          'no known savings' >=7       \n",
       "   installment_commitment personal_status      other_parties ...\n",
       "   2                      'male single'        guarantor     ...\n",
       "5  3                      'male single'        none          ...\n",
       "8  2                      'male single'        none          ...\n",
       "10 4                      'male mar/wid'       none          ...\n",
       "13 1                      'female div/dep/mar' none          ...\n",
       "17 4                      'male single'        none          ...\n",
       "   other_payment_plans housing    existing_credits job                        \n",
       "   none                'for free' 1                skilled                    \n",
       "5  none                'for free' 2                skilled                    \n",
       "8  none                rent       1                'high qualif/self emp/mgmt'\n",
       "10 none                own        2                'high qualif/self emp/mgmt'\n",
       "13 none                own        1                skilled                    \n",
       "17 none                own        2                skilled                    \n",
       "   num_dependents own_telephone foreign_worker class bad        good     \n",
       "   2              none          yes            good  0.25000000 0.7500000\n",
       "5  2              none          yes            bad   0.28571429 0.7142857\n",
       "8  1              yes           yes            good  0.25000000 0.7500000\n",
       "10 1              none          yes            bad   0.28571429 0.7142857\n",
       "13 1              yes           yes            good  0.28571429 0.7142857\n",
       "17 1              none          yes            good  0.08791209 0.9120879"
      ]
     },
     "metadata": {},
     "output_type": "display_data"
    }
   ],
   "source": [
    "cred = cbind(creditoteste, teste)\n",
    "fix(cred)\n",
    "head(cred)"
   ]
  },
  {
   "cell_type": "code",
   "execution_count": 9,
   "metadata": {},
   "outputs": [
    {
     "data": {
      "text/html": [
       "<table>\n",
       "<caption>A data.frame: 6 × 24</caption>\n",
       "<thead>\n",
       "\t<tr><th></th><th scope=col>checking_status</th><th scope=col>duration</th><th scope=col>credit_history</th><th scope=col>purpose</th><th scope=col>credit_amount</th><th scope=col>savings_status</th><th scope=col>employment</th><th scope=col>installment_commitment</th><th scope=col>personal_status</th><th scope=col>other_parties</th><th scope=col>...</th><th scope=col>housing</th><th scope=col>existing_credits</th><th scope=col>job</th><th scope=col>num_dependents</th><th scope=col>own_telephone</th><th scope=col>foreign_worker</th><th scope=col>class</th><th scope=col>bad</th><th scope=col>good</th><th scope=col>Result</th></tr>\n",
       "\t<tr><th></th><th scope=col>&lt;fct&gt;</th><th scope=col>&lt;dbl&gt;</th><th scope=col>&lt;fct&gt;</th><th scope=col>&lt;fct&gt;</th><th scope=col>&lt;dbl&gt;</th><th scope=col>&lt;fct&gt;</th><th scope=col>&lt;fct&gt;</th><th scope=col>&lt;dbl&gt;</th><th scope=col>&lt;fct&gt;</th><th scope=col>&lt;fct&gt;</th><th scope=col>...</th><th scope=col>&lt;fct&gt;</th><th scope=col>&lt;dbl&gt;</th><th scope=col>&lt;fct&gt;</th><th scope=col>&lt;dbl&gt;</th><th scope=col>&lt;fct&gt;</th><th scope=col>&lt;fct&gt;</th><th scope=col>&lt;fct&gt;</th><th scope=col>&lt;dbl&gt;</th><th scope=col>&lt;dbl&gt;</th><th scope=col>&lt;chr&gt;</th></tr>\n",
       "</thead>\n",
       "<tbody>\n",
       "\t<tr><th scope=row> </th><td><span style=white-space:pre-wrap>&lt;0           </span></td><td>42</td><td><span style=white-space:pre-wrap>'existing paid'                 </span></td><td>furniture/equipment</td><td>7882</td><td><span style=white-space:pre-wrap>&lt;100              </span></td><td><span style=white-space:pre-wrap>4&lt;=X&lt;7    </span></td><td>2</td><td><span style=white-space:pre-wrap>'male single'       </span></td><td>guarantor</td><td>...</td><td>'for free'</td><td>1</td><td><span style=white-space:pre-wrap>skilled                    </span></td><td>2</td><td>none</td><td>yes</td><td>good</td><td>0.25000000</td><td>0.7500000</td><td>good</td></tr>\n",
       "\t<tr><th scope=row>5</th><td><span style=white-space:pre-wrap>&lt;0           </span></td><td>24</td><td><span style=white-space:pre-wrap>'delayed previously'            </span></td><td><span style=white-space:pre-wrap>'new car'          </span></td><td>4870</td><td><span style=white-space:pre-wrap>&lt;100              </span></td><td><span style=white-space:pre-wrap>1&lt;=X&lt;4    </span></td><td>3</td><td><span style=white-space:pre-wrap>'male single'       </span></td><td><span style=white-space:pre-wrap>none     </span></td><td>...</td><td>'for free'</td><td>2</td><td><span style=white-space:pre-wrap>skilled                    </span></td><td>2</td><td>none</td><td>yes</td><td>bad </td><td>0.28571429</td><td>0.7142857</td><td>good</td></tr>\n",
       "\t<tr><th scope=row>8</th><td><span style=white-space:pre-wrap>0&lt;=X&lt;200     </span></td><td>36</td><td><span style=white-space:pre-wrap>'existing paid'                 </span></td><td><span style=white-space:pre-wrap>'used car'         </span></td><td>6948</td><td><span style=white-space:pre-wrap>&lt;100              </span></td><td><span style=white-space:pre-wrap>1&lt;=X&lt;4    </span></td><td>2</td><td><span style=white-space:pre-wrap>'male single'       </span></td><td><span style=white-space:pre-wrap>none     </span></td><td>...</td><td><span style=white-space:pre-wrap>rent      </span></td><td>1</td><td>'high qualif/self emp/mgmt'</td><td>1</td><td>yes </td><td>yes</td><td>good</td><td>0.25000000</td><td>0.7500000</td><td>good</td></tr>\n",
       "\t<tr><th scope=row>10</th><td><span style=white-space:pre-wrap>0&lt;=X&lt;200     </span></td><td>30</td><td>'critical/other existing credit'</td><td><span style=white-space:pre-wrap>'new car'          </span></td><td>5234</td><td><span style=white-space:pre-wrap>&lt;100              </span></td><td>unemployed</td><td>4</td><td><span style=white-space:pre-wrap>'male mar/wid'      </span></td><td><span style=white-space:pre-wrap>none     </span></td><td>...</td><td><span style=white-space:pre-wrap>own       </span></td><td>2</td><td>'high qualif/self emp/mgmt'</td><td>1</td><td>none</td><td>yes</td><td>bad </td><td>0.28571429</td><td>0.7142857</td><td>good</td></tr>\n",
       "\t<tr><th scope=row>13</th><td><span style=white-space:pre-wrap>0&lt;=X&lt;200     </span></td><td>12</td><td><span style=white-space:pre-wrap>'existing paid'                 </span></td><td><span style=white-space:pre-wrap>radio/tv           </span></td><td>1567</td><td><span style=white-space:pre-wrap>&lt;100              </span></td><td><span style=white-space:pre-wrap>1&lt;=X&lt;4    </span></td><td>1</td><td>'female div/dep/mar'</td><td><span style=white-space:pre-wrap>none     </span></td><td>...</td><td><span style=white-space:pre-wrap>own       </span></td><td>1</td><td><span style=white-space:pre-wrap>skilled                    </span></td><td>1</td><td>yes </td><td>yes</td><td>good</td><td>0.28571429</td><td>0.7142857</td><td>good</td></tr>\n",
       "\t<tr><th scope=row>17</th><td>'no checking'</td><td>24</td><td>'critical/other existing credit'</td><td><span style=white-space:pre-wrap>radio/tv           </span></td><td>2424</td><td>'no known savings'</td><td><span style=white-space:pre-wrap>&gt;=7       </span></td><td>4</td><td><span style=white-space:pre-wrap>'male single'       </span></td><td><span style=white-space:pre-wrap>none     </span></td><td>...</td><td><span style=white-space:pre-wrap>own       </span></td><td>2</td><td><span style=white-space:pre-wrap>skilled                    </span></td><td>1</td><td>none</td><td>yes</td><td>good</td><td>0.08791209</td><td>0.9120879</td><td>good</td></tr>\n",
       "</tbody>\n",
       "</table>\n"
      ],
      "text/latex": [
       "A data.frame: 6 × 24\n",
       "\\begin{tabular}{r|lllllllllllllllllllll}\n",
       "  & checking\\_status & duration & credit\\_history & purpose & credit\\_amount & savings\\_status & employment & installment\\_commitment & personal\\_status & other\\_parties & ... & housing & existing\\_credits & job & num\\_dependents & own\\_telephone & foreign\\_worker & class & bad & good & Result\\\\\n",
       "  & <fct> & <dbl> & <fct> & <fct> & <dbl> & <fct> & <fct> & <dbl> & <fct> & <fct> & ... & <fct> & <dbl> & <fct> & <dbl> & <fct> & <fct> & <fct> & <dbl> & <dbl> & <chr>\\\\\n",
       "\\hline\n",
       "\t  & <0            & 42 & 'existing paid'                  & furniture/equipment & 7882 & <100               & 4<=X<7     & 2 & 'male single'        & guarantor & ... & 'for free' & 1 & skilled                     & 2 & none & yes & good & 0.25000000 & 0.7500000 & good\\\\\n",
       "\t5 & <0            & 24 & 'delayed previously'             & 'new car'           & 4870 & <100               & 1<=X<4     & 3 & 'male single'        & none      & ... & 'for free' & 2 & skilled                     & 2 & none & yes & bad  & 0.28571429 & 0.7142857 & good\\\\\n",
       "\t8 & 0<=X<200      & 36 & 'existing paid'                  & 'used car'          & 6948 & <100               & 1<=X<4     & 2 & 'male single'        & none      & ... & rent       & 1 & 'high qualif/self emp/mgmt' & 1 & yes  & yes & good & 0.25000000 & 0.7500000 & good\\\\\n",
       "\t10 & 0<=X<200      & 30 & 'critical/other existing credit' & 'new car'           & 5234 & <100               & unemployed & 4 & 'male mar/wid'       & none      & ... & own        & 2 & 'high qualif/self emp/mgmt' & 1 & none & yes & bad  & 0.28571429 & 0.7142857 & good\\\\\n",
       "\t13 & 0<=X<200      & 12 & 'existing paid'                  & radio/tv            & 1567 & <100               & 1<=X<4     & 1 & 'female div/dep/mar' & none      & ... & own        & 1 & skilled                     & 1 & yes  & yes & good & 0.28571429 & 0.7142857 & good\\\\\n",
       "\t17 & 'no checking' & 24 & 'critical/other existing credit' & radio/tv            & 2424 & 'no known savings' & >=7        & 4 & 'male single'        & none      & ... & own        & 2 & skilled                     & 1 & none & yes & good & 0.08791209 & 0.9120879 & good\\\\\n",
       "\\end{tabular}\n"
      ],
      "text/markdown": [
       "\n",
       "A data.frame: 6 × 24\n",
       "\n",
       "| <!--/--> | checking_status &lt;fct&gt; | duration &lt;dbl&gt; | credit_history &lt;fct&gt; | purpose &lt;fct&gt; | credit_amount &lt;dbl&gt; | savings_status &lt;fct&gt; | employment &lt;fct&gt; | installment_commitment &lt;dbl&gt; | personal_status &lt;fct&gt; | other_parties &lt;fct&gt; | ... ... | housing &lt;fct&gt; | existing_credits &lt;dbl&gt; | job &lt;fct&gt; | num_dependents &lt;dbl&gt; | own_telephone &lt;fct&gt; | foreign_worker &lt;fct&gt; | class &lt;fct&gt; | bad &lt;dbl&gt; | good &lt;dbl&gt; | Result &lt;chr&gt; |\n",
       "|---|---|---|---|---|---|---|---|---|---|---|---|---|---|---|---|---|---|---|---|---|---|\n",
       "| <!----> | &lt;0            | 42 | 'existing paid'                  | furniture/equipment | 7882 | &lt;100               | 4&lt;=X&lt;7     | 2 | 'male single'        | guarantor | ... | 'for free' | 1 | skilled                     | 2 | none | yes | good | 0.25000000 | 0.7500000 | good |\n",
       "| 5 | &lt;0            | 24 | 'delayed previously'             | 'new car'           | 4870 | &lt;100               | 1&lt;=X&lt;4     | 3 | 'male single'        | none      | ... | 'for free' | 2 | skilled                     | 2 | none | yes | bad  | 0.28571429 | 0.7142857 | good |\n",
       "| 8 | 0&lt;=X&lt;200      | 36 | 'existing paid'                  | 'used car'          | 6948 | &lt;100               | 1&lt;=X&lt;4     | 2 | 'male single'        | none      | ... | rent       | 1 | 'high qualif/self emp/mgmt' | 1 | yes  | yes | good | 0.25000000 | 0.7500000 | good |\n",
       "| 10 | 0&lt;=X&lt;200      | 30 | 'critical/other existing credit' | 'new car'           | 5234 | &lt;100               | unemployed | 4 | 'male mar/wid'       | none      | ... | own        | 2 | 'high qualif/self emp/mgmt' | 1 | none | yes | bad  | 0.28571429 | 0.7142857 | good |\n",
       "| 13 | 0&lt;=X&lt;200      | 12 | 'existing paid'                  | radio/tv            | 1567 | &lt;100               | 1&lt;=X&lt;4     | 1 | 'female div/dep/mar' | none      | ... | own        | 1 | skilled                     | 1 | yes  | yes | good | 0.28571429 | 0.7142857 | good |\n",
       "| 17 | 'no checking' | 24 | 'critical/other existing credit' | radio/tv            | 2424 | 'no known savings' | &gt;=7        | 4 | 'male single'        | none      | ... | own        | 2 | skilled                     | 1 | none | yes | good | 0.08791209 | 0.9120879 | good |\n",
       "\n"
      ],
      "text/plain": [
       "   checking_status duration credit_history                  \n",
       "   <0              42       'existing paid'                 \n",
       "5  <0              24       'delayed previously'            \n",
       "8  0<=X<200        36       'existing paid'                 \n",
       "10 0<=X<200        30       'critical/other existing credit'\n",
       "13 0<=X<200        12       'existing paid'                 \n",
       "17 'no checking'   24       'critical/other existing credit'\n",
       "   purpose             credit_amount savings_status     employment\n",
       "   furniture/equipment 7882          <100               4<=X<7    \n",
       "5  'new car'           4870          <100               1<=X<4    \n",
       "8  'used car'          6948          <100               1<=X<4    \n",
       "10 'new car'           5234          <100               unemployed\n",
       "13 radio/tv            1567          <100               1<=X<4    \n",
       "17 radio/tv            2424          'no known savings' >=7       \n",
       "   installment_commitment personal_status      other_parties ... housing   \n",
       "   2                      'male single'        guarantor     ... 'for free'\n",
       "5  3                      'male single'        none          ... 'for free'\n",
       "8  2                      'male single'        none          ... rent      \n",
       "10 4                      'male mar/wid'       none          ... own       \n",
       "13 1                      'female div/dep/mar' none          ... own       \n",
       "17 4                      'male single'        none          ... own       \n",
       "   existing_credits job                         num_dependents own_telephone\n",
       "   1                skilled                     2              none         \n",
       "5  2                skilled                     2              none         \n",
       "8  1                'high qualif/self emp/mgmt' 1              yes          \n",
       "10 2                'high qualif/self emp/mgmt' 1              none         \n",
       "13 1                skilled                     1              yes          \n",
       "17 2                skilled                     1              none         \n",
       "   foreign_worker class bad        good      Result\n",
       "   yes            good  0.25000000 0.7500000 good  \n",
       "5  yes            bad   0.28571429 0.7142857 good  \n",
       "8  yes            good  0.25000000 0.7500000 good  \n",
       "10 yes            bad   0.28571429 0.7142857 good  \n",
       "13 yes            good  0.28571429 0.7142857 good  \n",
       "17 yes            good  0.08791209 0.9120879 good  "
      ]
     },
     "metadata": {},
     "output_type": "display_data"
    }
   ],
   "source": [
    "cred[\"Result\"] = ifelse(cred$bad >= 0.5, \"bad\", \"good\")\n",
    "head(cred)"
   ]
  },
  {
   "cell_type": "code",
   "execution_count": 10,
   "metadata": {},
   "outputs": [],
   "source": [
    "confusao = table(cred$class, cred$Result)"
   ]
  },
  {
   "cell_type": "code",
   "execution_count": 11,
   "metadata": {},
   "outputs": [
    {
     "data": {
      "text/html": [
       "0.746323529411765"
      ],
      "text/latex": [
       "0.746323529411765"
      ],
      "text/markdown": [
       "0.746323529411765"
      ],
      "text/plain": [
       "[1] 0.7463235"
      ]
     },
     "metadata": {},
     "output_type": "display_data"
    }
   ],
   "source": [
    "taxaacerto = (confusao[1] + confusao[4]) / sum(confusao)\n",
    "taxaacerto"
   ]
  },
  {
   "cell_type": "code",
   "execution_count": 12,
   "metadata": {},
   "outputs": [
    {
     "data": {
      "text/html": [
       "0.253676470588235"
      ],
      "text/latex": [
       "0.253676470588235"
      ],
      "text/markdown": [
       "0.253676470588235"
      ],
      "text/plain": [
       "[1] 0.2536765"
      ]
     },
     "metadata": {},
     "output_type": "display_data"
    }
   ],
   "source": [
    "taxaerro = (confusao[2] + confusao[3]) / sum(confusao)\n",
    "taxaerro \n",
    "\n",
    "# taxaerro = 1 - taxaacerto"
   ]
  }
 ],
 "metadata": {
  "kernelspec": {
   "display_name": "R 3.3",
   "language": "R",
   "name": "ir33"
  },
  "language_info": {
   "codemirror_mode": "r",
   "file_extension": ".r",
   "mimetype": "text/x-r-source",
   "name": "R",
   "pygments_lexer": "r",
   "version": "3.6.1"
  }
 },
 "nbformat": 4,
 "nbformat_minor": 4
}
