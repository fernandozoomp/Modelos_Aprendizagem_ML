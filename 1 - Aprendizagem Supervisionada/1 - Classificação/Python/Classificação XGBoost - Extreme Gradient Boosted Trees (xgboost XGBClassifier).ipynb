{
 "cells": [
  {
   "cell_type": "code",
   "execution_count": 1,
   "metadata": {},
   "outputs": [],
   "source": [
    "import pandas as pd\n",
    "import numpy as np\n",
    "\n",
    "from sklearn.model_selection import train_test_split\n",
    "from sklearn.preprocessing import LabelEncoder\n",
    "from sklearn.metrics import confusion_matrix, accuracy_score\n",
    "from yellowbrick.classifier import ConfusionMatrix\n",
    "\n",
    "from xgboost import XGBClassifier"
   ]
  },
  {
   "cell_type": "code",
   "execution_count": 2,
   "metadata": {},
   "outputs": [
    {
     "data": {
      "text/html": [
       "<div>\n",
       "<style scoped>\n",
       "    .dataframe tbody tr th:only-of-type {\n",
       "        vertical-align: middle;\n",
       "    }\n",
       "\n",
       "    .dataframe tbody tr th {\n",
       "        vertical-align: top;\n",
       "    }\n",
       "\n",
       "    .dataframe thead th {\n",
       "        text-align: right;\n",
       "    }\n",
       "</style>\n",
       "<table border=\"1\" class=\"dataframe\">\n",
       "  <thead>\n",
       "    <tr style=\"text-align: right;\">\n",
       "      <th></th>\n",
       "      <th>checking_status</th>\n",
       "      <th>duration</th>\n",
       "      <th>credit_history</th>\n",
       "      <th>purpose</th>\n",
       "      <th>credit_amount</th>\n",
       "      <th>savings_status</th>\n",
       "      <th>employment</th>\n",
       "      <th>installment_commitment</th>\n",
       "      <th>personal_status</th>\n",
       "      <th>other_parties</th>\n",
       "      <th>...</th>\n",
       "      <th>property_magnitude</th>\n",
       "      <th>age</th>\n",
       "      <th>other_payment_plans</th>\n",
       "      <th>housing</th>\n",
       "      <th>existing_credits</th>\n",
       "      <th>job</th>\n",
       "      <th>num_dependents</th>\n",
       "      <th>own_telephone</th>\n",
       "      <th>foreign_worker</th>\n",
       "      <th>class</th>\n",
       "    </tr>\n",
       "  </thead>\n",
       "  <tbody>\n",
       "    <tr>\n",
       "      <th>0</th>\n",
       "      <td>&lt;0</td>\n",
       "      <td>6</td>\n",
       "      <td>'critical/other existing credit'</td>\n",
       "      <td>radio/tv</td>\n",
       "      <td>1169</td>\n",
       "      <td>'no known savings'</td>\n",
       "      <td>&gt;=7</td>\n",
       "      <td>4</td>\n",
       "      <td>'male single'</td>\n",
       "      <td>none</td>\n",
       "      <td>...</td>\n",
       "      <td>'real estate'</td>\n",
       "      <td>67</td>\n",
       "      <td>none</td>\n",
       "      <td>own</td>\n",
       "      <td>2</td>\n",
       "      <td>skilled</td>\n",
       "      <td>1</td>\n",
       "      <td>yes</td>\n",
       "      <td>yes</td>\n",
       "      <td>good</td>\n",
       "    </tr>\n",
       "    <tr>\n",
       "      <th>1</th>\n",
       "      <td>0&lt;=X&lt;200</td>\n",
       "      <td>48</td>\n",
       "      <td>'existing paid'</td>\n",
       "      <td>radio/tv</td>\n",
       "      <td>5951</td>\n",
       "      <td>&lt;100</td>\n",
       "      <td>1&lt;=X&lt;4</td>\n",
       "      <td>2</td>\n",
       "      <td>'female div/dep/mar'</td>\n",
       "      <td>none</td>\n",
       "      <td>...</td>\n",
       "      <td>'real estate'</td>\n",
       "      <td>22</td>\n",
       "      <td>none</td>\n",
       "      <td>own</td>\n",
       "      <td>1</td>\n",
       "      <td>skilled</td>\n",
       "      <td>1</td>\n",
       "      <td>none</td>\n",
       "      <td>yes</td>\n",
       "      <td>bad</td>\n",
       "    </tr>\n",
       "    <tr>\n",
       "      <th>2</th>\n",
       "      <td>'no checking'</td>\n",
       "      <td>12</td>\n",
       "      <td>'critical/other existing credit'</td>\n",
       "      <td>education</td>\n",
       "      <td>2096</td>\n",
       "      <td>&lt;100</td>\n",
       "      <td>4&lt;=X&lt;7</td>\n",
       "      <td>2</td>\n",
       "      <td>'male single'</td>\n",
       "      <td>none</td>\n",
       "      <td>...</td>\n",
       "      <td>'real estate'</td>\n",
       "      <td>49</td>\n",
       "      <td>none</td>\n",
       "      <td>own</td>\n",
       "      <td>1</td>\n",
       "      <td>'unskilled resident'</td>\n",
       "      <td>2</td>\n",
       "      <td>none</td>\n",
       "      <td>yes</td>\n",
       "      <td>good</td>\n",
       "    </tr>\n",
       "    <tr>\n",
       "      <th>3</th>\n",
       "      <td>&lt;0</td>\n",
       "      <td>42</td>\n",
       "      <td>'existing paid'</td>\n",
       "      <td>furniture/equipment</td>\n",
       "      <td>7882</td>\n",
       "      <td>&lt;100</td>\n",
       "      <td>4&lt;=X&lt;7</td>\n",
       "      <td>2</td>\n",
       "      <td>'male single'</td>\n",
       "      <td>guarantor</td>\n",
       "      <td>...</td>\n",
       "      <td>'life insurance'</td>\n",
       "      <td>45</td>\n",
       "      <td>none</td>\n",
       "      <td>'for free'</td>\n",
       "      <td>1</td>\n",
       "      <td>skilled</td>\n",
       "      <td>2</td>\n",
       "      <td>none</td>\n",
       "      <td>yes</td>\n",
       "      <td>good</td>\n",
       "    </tr>\n",
       "    <tr>\n",
       "      <th>4</th>\n",
       "      <td>&lt;0</td>\n",
       "      <td>24</td>\n",
       "      <td>'delayed previously'</td>\n",
       "      <td>'new car'</td>\n",
       "      <td>4870</td>\n",
       "      <td>&lt;100</td>\n",
       "      <td>1&lt;=X&lt;4</td>\n",
       "      <td>3</td>\n",
       "      <td>'male single'</td>\n",
       "      <td>none</td>\n",
       "      <td>...</td>\n",
       "      <td>'no known property'</td>\n",
       "      <td>53</td>\n",
       "      <td>none</td>\n",
       "      <td>'for free'</td>\n",
       "      <td>2</td>\n",
       "      <td>skilled</td>\n",
       "      <td>2</td>\n",
       "      <td>none</td>\n",
       "      <td>yes</td>\n",
       "      <td>bad</td>\n",
       "    </tr>\n",
       "  </tbody>\n",
       "</table>\n",
       "<p>5 rows × 21 columns</p>\n",
       "</div>"
      ],
      "text/plain": [
       "  checking_status  duration                    credit_history  \\\n",
       "0              <0         6  'critical/other existing credit'   \n",
       "1        0<=X<200        48                   'existing paid'   \n",
       "2   'no checking'        12  'critical/other existing credit'   \n",
       "3              <0        42                   'existing paid'   \n",
       "4              <0        24              'delayed previously'   \n",
       "\n",
       "               purpose  credit_amount      savings_status employment  \\\n",
       "0             radio/tv           1169  'no known savings'        >=7   \n",
       "1             radio/tv           5951                <100     1<=X<4   \n",
       "2            education           2096                <100     4<=X<7   \n",
       "3  furniture/equipment           7882                <100     4<=X<7   \n",
       "4            'new car'           4870                <100     1<=X<4   \n",
       "\n",
       "   installment_commitment       personal_status other_parties  ...  \\\n",
       "0                       4         'male single'          none  ...   \n",
       "1                       2  'female div/dep/mar'          none  ...   \n",
       "2                       2         'male single'          none  ...   \n",
       "3                       2         'male single'     guarantor  ...   \n",
       "4                       3         'male single'          none  ...   \n",
       "\n",
       "    property_magnitude age  other_payment_plans     housing existing_credits  \\\n",
       "0        'real estate'  67                 none         own                2   \n",
       "1        'real estate'  22                 none         own                1   \n",
       "2        'real estate'  49                 none         own                1   \n",
       "3     'life insurance'  45                 none  'for free'                1   \n",
       "4  'no known property'  53                 none  'for free'                2   \n",
       "\n",
       "                    job num_dependents  own_telephone foreign_worker class  \n",
       "0               skilled              1            yes            yes  good  \n",
       "1               skilled              1           none            yes   bad  \n",
       "2  'unskilled resident'              2           none            yes  good  \n",
       "3               skilled              2           none            yes  good  \n",
       "4               skilled              2           none            yes   bad  \n",
       "\n",
       "[5 rows x 21 columns]"
      ]
     },
     "execution_count": 2,
     "metadata": {},
     "output_type": "execute_result"
    }
   ],
   "source": [
    "credito = pd.read_csv(\"credit.csv\")\n",
    "credito.head()"
   ]
  },
  {
   "cell_type": "code",
   "execution_count": 3,
   "metadata": {},
   "outputs": [
    {
     "data": {
      "text/plain": [
       "array([['<0', 6, \"'critical/other existing credit'\", ..., 1, 'yes',\n",
       "        'yes'],\n",
       "       ['0<=X<200', 48, \"'existing paid'\", ..., 1, 'none', 'yes'],\n",
       "       [\"'no checking'\", 12, \"'critical/other existing credit'\", ..., 2,\n",
       "        'none', 'yes'],\n",
       "       ...,\n",
       "       [\"'no checking'\", 12, \"'existing paid'\", ..., 1, 'none', 'yes'],\n",
       "       ['<0', 45, \"'existing paid'\", ..., 1, 'yes', 'yes'],\n",
       "       ['0<=X<200', 45, \"'critical/other existing credit'\", ..., 1,\n",
       "        'none', 'yes']], dtype=object)"
      ]
     },
     "execution_count": 3,
     "metadata": {},
     "output_type": "execute_result"
    }
   ],
   "source": [
    "x = credito.iloc[:,0:20].values\n",
    "x"
   ]
  },
  {
   "cell_type": "code",
   "execution_count": 4,
   "metadata": {},
   "outputs": [],
   "source": [
    "y = credito.iloc[:,20].values"
   ]
  },
  {
   "cell_type": "code",
   "execution_count": 5,
   "metadata": {},
   "outputs": [],
   "source": [
    "labelencoder = LabelEncoder()"
   ]
  },
  {
   "cell_type": "code",
   "execution_count": 6,
   "metadata": {},
   "outputs": [],
   "source": [
    "transform = [0,2,3,5,6,8,9,11,13,14,16,18,19]"
   ]
  },
  {
   "cell_type": "code",
   "execution_count": 7,
   "metadata": {},
   "outputs": [],
   "source": [
    "for i in transform:\n",
    "    x[:,i] = labelencoder.fit_transform(x[:,i])"
   ]
  },
  {
   "cell_type": "code",
   "execution_count": 8,
   "metadata": {},
   "outputs": [
    {
     "data": {
      "text/plain": [
       "array([[2, 6, 1, ..., 1, 1, 1],\n",
       "       [1, 48, 3, ..., 1, 0, 1],\n",
       "       [0, 12, 1, ..., 2, 0, 1],\n",
       "       ...,\n",
       "       [0, 12, 3, ..., 1, 0, 1],\n",
       "       [2, 45, 3, ..., 1, 1, 1],\n",
       "       [1, 45, 1, ..., 1, 0, 1]], dtype=object)"
      ]
     },
     "execution_count": 8,
     "metadata": {},
     "output_type": "execute_result"
    }
   ],
   "source": [
    "x"
   ]
  },
  {
   "cell_type": "code",
   "execution_count": 9,
   "metadata": {},
   "outputs": [
    {
     "name": "stdout",
     "output_type": "stream",
     "text": [
      "\n",
      "Disposição da divisão Treino/Teste\n",
      "\n",
      "X Treino: 700 registros x 20 variáveis preditoras\n",
      "Y Treino: 700 registros x 1 variável de resposta\n",
      "\n",
      "X Teste: 300 registros x 20 variáveis preditoras\n",
      "Y Teste: 300 registros x 1 variável de resposta\n",
      "\n"
     ]
    }
   ],
   "source": [
    "x_train, x_test, y_train, y_test = train_test_split(x, y, test_size=0.3, random_state=0)\n",
    "\n",
    "print(\"\\nDisposição da divisão Treino/Teste\\n\")\n",
    "\n",
    "print(\"X Treino:\", x_train.shape[0], \"registros x\", x_train.shape[1], \"variáveis preditoras\")\n",
    "print(\"Y Treino:\", y_train.shape[0], \"registros x 1 variável de resposta\\n\")\n",
    "\n",
    "print(\"X Teste:\", x_test.shape[0], \"registros x\", x_test.shape[1], \"variáveis preditoras\")\n",
    "print(\"Y Teste:\", y_test.shape[0], \"registros x 1 variável de resposta\\n\")"
   ]
  },
  {
   "cell_type": "code",
   "execution_count": 10,
   "metadata": {},
   "outputs": [
    {
     "name": "stdout",
     "output_type": "stream",
     "text": [
      "[1 24 1 6 11938 3 0 2 3 0 3 3 39 1 1 2 0 2 1 1]\n"
     ]
    }
   ],
   "source": [
    "print(x_train[0])"
   ]
  },
  {
   "cell_type": "code",
   "execution_count": 11,
   "metadata": {},
   "outputs": [
    {
     "data": {
      "text/plain": [
       "XGBClassifier(base_score=0.5, booster='gbtree', colsample_bylevel=1,\n",
       "              colsample_bynode=1, colsample_bytree=0.8, gamma=0,\n",
       "              learning_rate=0.2, max_delta_step=0, max_depth=5,\n",
       "              min_child_weight=1, missing=None, n_estimators=1000, n_jobs=1,\n",
       "              nthread=None, objective='binary:logistic', random_state=0,\n",
       "              reg_alpha=0, reg_lambda=1, scale_pos_weight=1, seed=None,\n",
       "              silent=None, subsample=0.8, verbosity=1)"
      ]
     },
     "execution_count": 11,
     "metadata": {},
     "output_type": "execute_result"
    }
   ],
   "source": [
    "modelo = XGBClassifier(base_score=0.5, \n",
    "                       booster='gbtree', \n",
    "                       colsample_bylevel=1,\n",
    "                       colsample_bynode=1,\n",
    "                       colsample_bytree=0.8,\n",
    "                       gamma=0,\n",
    "                       learning_rate=0.2, \n",
    "                       max_delta_step=0, \n",
    "                       max_depth=5,\n",
    "                       min_child_weight=1, \n",
    "                       missing=None, \n",
    "                       n_estimators=1000,\n",
    "                       n_jobs=1,\n",
    "                       nthread=None, \n",
    "                       objective='binary:logistic', \n",
    "                       random_state=0,\n",
    "                       reg_alpha=0, \n",
    "                       reg_lambda=1, \n",
    "                       scale_pos_weight=1, \n",
    "                       seed=None,\n",
    "                       silent=None, \n",
    "                       subsample=0.8, \n",
    "                       verbosity=1)\n",
    "\n",
    "modelo.fit(x_train, y_train)"
   ]
  },
  {
   "cell_type": "code",
   "execution_count": 12,
   "metadata": {},
   "outputs": [
    {
     "name": "stdout",
     "output_type": "stream",
     "text": [
      "['bad' 'good' 'good' 'good' 'good' 'good' 'good' 'good' 'good' 'bad' 'bad'\n",
      " 'good' 'good' 'good' 'bad' 'good' 'good' 'good' 'bad' 'good' 'good' 'bad'\n",
      " 'good' 'good' 'good' 'bad' 'good' 'good' 'good' 'bad' 'good' 'good'\n",
      " 'good' 'bad' 'good' 'bad' 'good' 'good' 'good' 'good' 'good' 'good'\n",
      " 'good' 'good' 'good' 'bad' 'good' 'bad' 'bad' 'good' 'good' 'bad' 'good'\n",
      " 'good' 'good' 'good' 'bad' 'good' 'good' 'good' 'bad' 'good' 'bad' 'good'\n",
      " 'good' 'good' 'good' 'good' 'bad' 'good' 'good' 'good' 'good' 'bad' 'bad'\n",
      " 'good' 'good' 'good' 'good' 'good' 'good' 'good' 'good' 'good' 'good'\n",
      " 'good' 'bad' 'bad' 'good' 'good' 'good' 'good' 'good' 'good' 'good'\n",
      " 'good' 'good' 'good' 'bad' 'good' 'bad' 'good' 'good' 'good' 'good'\n",
      " 'good' 'bad' 'bad' 'bad' 'good' 'good' 'bad' 'bad' 'good' 'good' 'good'\n",
      " 'bad' 'good' 'good' 'good' 'good' 'good' 'good' 'bad' 'good' 'good'\n",
      " 'good' 'good' 'good' 'good' 'good' 'good' 'bad' 'good' 'good' 'good'\n",
      " 'good' 'good' 'good' 'bad' 'bad' 'bad' 'good' 'good' 'good' 'good' 'good'\n",
      " 'good' 'good' 'good' 'good' 'bad' 'good' 'good' 'bad' 'good' 'good'\n",
      " 'good' 'good' 'good' 'good' 'good' 'good' 'good' 'bad' 'bad' 'bad' 'good'\n",
      " 'good' 'good' 'bad' 'good' 'good' 'good' 'good' 'bad' 'bad' 'bad' 'good'\n",
      " 'good' 'good' 'good' 'good' 'bad' 'bad' 'bad' 'good' 'good' 'good' 'good'\n",
      " 'good' 'bad' 'good' 'good' 'good' 'good' 'bad' 'good' 'good' 'good'\n",
      " 'good' 'good' 'bad' 'bad' 'good' 'good' 'bad' 'good' 'good' 'good' 'bad'\n",
      " 'bad' 'bad' 'good' 'good' 'bad' 'good' 'good' 'good' 'bad' 'bad' 'good'\n",
      " 'good' 'good' 'good' 'good' 'good' 'bad' 'bad' 'good' 'good' 'good'\n",
      " 'good' 'good' 'bad' 'bad' 'good' 'good' 'good' 'good' 'good' 'good'\n",
      " 'good' 'good' 'good' 'good' 'good' 'good' 'good' 'good' 'good' 'good'\n",
      " 'good' 'good' 'good' 'good' 'bad' 'good' 'good' 'bad' 'good' 'good'\n",
      " 'good' 'good' 'bad' 'bad' 'good' 'good' 'bad' 'good' 'bad' 'bad' 'good'\n",
      " 'good' 'good' 'good' 'good' 'good' 'bad' 'bad' 'good' 'good' 'good'\n",
      " 'good' 'bad' 'good' 'good' 'good' 'good' 'good' 'good' 'good' 'good'\n",
      " 'good' 'good' 'good' 'bad' 'good' 'bad' 'bad']\n"
     ]
    }
   ],
   "source": [
    "predicao_y_test = modelo.predict(x_test)\n",
    "print(predicao_y_test)"
   ]
  },
  {
   "cell_type": "code",
   "execution_count": 13,
   "metadata": {},
   "outputs": [
    {
     "data": {
      "text/plain": [
       "0.7833333333333333"
      ]
     },
     "execution_count": 13,
     "metadata": {},
     "output_type": "execute_result"
    }
   ],
   "source": [
    "taxa_acerto = accuracy_score(y_test, predicao_y_test)\n",
    "taxa_acerto"
   ]
  },
  {
   "cell_type": "code",
   "execution_count": 14,
   "metadata": {},
   "outputs": [
    {
     "name": "stdout",
     "output_type": "stream",
     "text": [
      "[[ 48  38]\n",
      " [ 27 187]]\n"
     ]
    }
   ],
   "source": [
    "matriz = confusion_matrix(y_test, predicao_y_test)\n",
    "print(matriz)"
   ]
  }
 ],
 "metadata": {
  "kernelspec": {
   "display_name": "Python 3",
   "language": "python",
   "name": "python3"
  },
  "language_info": {
   "codemirror_mode": {
    "name": "ipython",
    "version": 3
   },
   "file_extension": ".py",
   "mimetype": "text/x-python",
   "name": "python",
   "nbconvert_exporter": "python",
   "pygments_lexer": "ipython3",
   "version": "3.7.3"
  }
 },
 "nbformat": 4,
 "nbformat_minor": 4
}
