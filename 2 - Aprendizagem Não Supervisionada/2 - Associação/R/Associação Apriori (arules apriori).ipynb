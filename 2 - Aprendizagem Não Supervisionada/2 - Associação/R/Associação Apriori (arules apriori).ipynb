{
 "cells": [
  {
   "cell_type": "markdown",
   "metadata": {},
   "source": [
    "### Associação Apriori"
   ]
  },
  {
   "cell_type": "code",
   "execution_count": 1,
   "metadata": {},
   "outputs": [
    {
     "name": "stderr",
     "output_type": "stream",
     "text": [
      "Loading required package: Matrix\n",
      "\n",
      "\n",
      "Attaching package: 'arules'\n",
      "\n",
      "\n",
      "The following objects are masked from 'package:base':\n",
      "\n",
      "    abbreviate, write\n",
      "\n",
      "\n"
     ]
    }
   ],
   "source": [
    "# install.packages(\"arules\")\n",
    "library(arules)"
   ]
  },
  {
   "cell_type": "code",
   "execution_count": 2,
   "metadata": {},
   "outputs": [
    {
     "data": {
      "text/plain": [
       "transactions in sparse format with\n",
       " 6 transactions (rows) and\n",
       " 3 items (columns)"
      ]
     },
     "metadata": {},
     "output_type": "display_data"
    }
   ],
   "source": [
    "transacoes = read.transactions(file.choose(), format=\"basket\", sep=\",\") # transacoes.txt\n",
    "transacoes"
   ]
  },
  {
   "cell_type": "code",
   "execution_count": 3,
   "metadata": {},
   "outputs": [
    {
     "data": {
      "text/plain": [
       "transactions as itemMatrix in sparse format with\n",
       " 6 rows (elements/itemsets/transactions) and\n",
       " 3 columns (items) and a density of 0.7222222 \n",
       "\n",
       "most frequent items:\n",
       "  Pizza Cerveja Sorvete (Other) \n",
       "      6       4       3       0 \n",
       "\n",
       "element (itemset/transaction) length distribution:\n",
       "sizes\n",
       "1 2 3 \n",
       "1 3 2 \n",
       "\n",
       "   Min. 1st Qu.  Median    Mean 3rd Qu.    Max. \n",
       "  1.000   2.000   2.000   2.167   2.750   3.000 \n",
       "\n",
       "includes extended item information - examples:\n",
       "   labels\n",
       "1 Cerveja\n",
       "2   Pizza\n",
       "3 Sorvete"
      ]
     },
     "metadata": {},
     "output_type": "display_data"
    }
   ],
   "source": [
    "summary(transacoes)"
   ]
  },
  {
   "cell_type": "code",
   "execution_count": 4,
   "metadata": {},
   "outputs": [
    {
     "name": "stdout",
     "output_type": "stream",
     "text": [
      "    items                  \n",
      "[1] {Cerveja,Pizza,Sorvete}\n",
      "[2] {Pizza,Sorvete}        \n",
      "[3] {Cerveja,Pizza}        \n",
      "[4] {Cerveja,Pizza,Sorvete}\n",
      "[5] {Cerveja,Pizza}        \n",
      "[6] {Pizza}                \n"
     ]
    }
   ],
   "source": [
    "inspect(transacoes)"
   ]
  },
  {
   "cell_type": "code",
   "execution_count": 5,
   "metadata": {},
   "outputs": [
    {
     "data": {
      "image/png": "[encoded data removed]",
      "text/plain": [
       "plot without title"
      ]
     },
     "metadata": {
      "image/png": {
       "height": 450,
       "width": 450
      },
      "text/plain": {
       "height": 450,
       "width": 450
      }
     },
     "output_type": "display_data"
    }
   ],
   "source": [
    "options(repr.plot.width=3, repr.plot.height=3, repr.plot.res=300)\n",
    "image(transacoes)"
   ]
  },
  {
   "cell_type": "code",
   "execution_count": 6,
   "metadata": {},
   "outputs": [
    {
     "name": "stdout",
     "output_type": "stream",
     "text": [
      "Apriori\n",
      "\n",
      "Parameter specification:\n",
      " confidence minval smax arem  aval originalSupport maxtime support minlen\n",
      "        0.5    0.1    1 none FALSE            TRUE       5     0.5      1\n",
      " maxlen target   ext\n",
      "     10  rules FALSE\n",
      "\n",
      "Algorithmic control:\n",
      " filter tree heap memopt load sort verbose\n",
      "    0.1 TRUE TRUE  FALSE TRUE    2    TRUE\n",
      "\n",
      "Absolute minimum support count: 3 \n",
      "\n",
      "set item appearances ...[0 item(s)] done [0.00s].\n",
      "set transactions ...[3 item(s), 6 transaction(s)] done [0.00s].\n",
      "sorting and recoding items ... [3 item(s)] done [0.00s].\n",
      "creating transaction tree ... done [0.00s].\n",
      "checking subsets of size 1 2 done [0.00s].\n",
      "writing ... [7 rule(s)] done [0.00s].\n",
      "creating S4 object  ... done [0.00s].\n"
     ]
    }
   ],
   "source": [
    "regras = apriori(transacoes, parameter=list(supp=0.5,conf=0.5))"
   ]
  },
  {
   "cell_type": "code",
   "execution_count": 7,
   "metadata": {},
   "outputs": [
    {
     "data": {
      "text/plain": [
       "set of 7 rules "
      ]
     },
     "metadata": {},
     "output_type": "display_data"
    }
   ],
   "source": [
    "regras"
   ]
  },
  {
   "cell_type": "code",
   "execution_count": 8,
   "metadata": {},
   "outputs": [
    {
     "name": "stdout",
     "output_type": "stream",
     "text": [
      "    lhs          rhs       support   confidence lift count\n",
      "[1] {}        => {Sorvete} 0.5000000 0.5000000  1    3    \n",
      "[2] {}        => {Cerveja} 0.6666667 0.6666667  1    4    \n",
      "[3] {}        => {Pizza}   1.0000000 1.0000000  1    6    \n",
      "[4] {Sorvete} => {Pizza}   0.5000000 1.0000000  1    3    \n",
      "[5] {Pizza}   => {Sorvete} 0.5000000 0.5000000  1    3    \n",
      "[6] {Cerveja} => {Pizza}   0.6666667 1.0000000  1    4    \n",
      "[7] {Pizza}   => {Cerveja} 0.6666667 0.6666667  1    4    \n"
     ]
    }
   ],
   "source": [
    "inspect(regras)"
   ]
  },
  {
   "cell_type": "code",
   "execution_count": 9,
   "metadata": {},
   "outputs": [
    {
     "name": "stderr",
     "output_type": "stream",
     "text": [
      "Loading required package: grid\n",
      "\n",
      "Registered S3 method overwritten by 'seriation':\n",
      "  method         from \n",
      "  reorder.hclust gclus\n",
      "\n"
     ]
    }
   ],
   "source": [
    "# install.packages(\"arulesViz\")\n",
    "library(arulesViz)"
   ]
  },
  {
   "cell_type": "code",
   "execution_count": 10,
   "metadata": {},
   "outputs": [
    {
     "name": "stderr",
     "output_type": "stream",
     "text": [
      "To reduce overplotting, jitter is added! Use jitter = 0 to prevent jitter.\n",
      "\n"
     ]
    },
    {
     "data": {
      "image/png": "[encoded data removed]",
      "text/plain": [
       "plot without title"
      ]
     },
     "metadata": {
      "image/png": {
       "height": 450,
       "width": 600
      },
      "text/plain": {
       "height": 450,
       "width": 600
      }
     },
     "output_type": "display_data"
    }
   ],
   "source": [
    "options(repr.plot.width=4, repr.plot.height=3, repr.plot.res=300)\n",
    "plot(regras)"
   ]
  },
  {
   "cell_type": "code",
   "execution_count": 11,
   "metadata": {},
   "outputs": [
    {
     "name": "stderr",
     "output_type": "stream",
     "text": [
      "Warning message:\n",
      "\"Unknown control parameters: type\"\n"
     ]
    },
    {
     "name": "stdout",
     "output_type": "stream",
     "text": [
      "Available control parameters (with default values):\n",
      "main\t =  Graph for 7 rules\n",
      "nodeColors\t =  c(\"#66CC6680\", \"#9999CC80\")\n",
      "nodeCol\t =  c(\"#EE0000FF\", \"#EE0303FF\", \"#EE0606FF\", \"#EE0909FF\", \"#EE0C0CFF\", \"#EE0F0FFF\", \"#EE1212FF\", \"#EE1515FF\", \"#EE1818FF\", \"#EE1B1BFF\", \"#EE1E1EFF\", \"#EE2222FF\", \"#EE2525FF\", \"#EE2828FF\", \"#EE2B2BFF\", \"#EE2E2EFF\", \"#EE3131FF\", \"#EE3434FF\", \"#EE3737FF\", \"#EE3A3AFF\", \"#EE3D3DFF\", \"#EE4040FF\", \"#EE4444FF\", \"#EE4747FF\", \"#EE4A4AFF\", \"#EE4D4DFF\", \"#EE5050FF\", \"#EE5353FF\", \"#EE5656FF\", \"#EE5959FF\", \"#EE5C5CFF\", \"#EE5F5FFF\", \"#EE6262FF\", \"#EE6666FF\", \"#EE6969FF\", \"#EE6C6CFF\", \"#EE6F6FFF\", \"#EE7272FF\", \"#EE7575FF\",  \"#EE7878FF\", \"#EE7B7BFF\", \"#EE7E7EFF\", \"#EE8181FF\", \"#EE8484FF\", \"#EE8888FF\", \"#EE8B8BFF\", \"#EE8E8EFF\", \"#EE9191FF\", \"#EE9494FF\", \"#EE9797FF\", \"#EE9999FF\", \"#EE9B9BFF\", \"#EE9D9DFF\", \"#EE9F9FFF\", \"#EEA0A0FF\", \"#EEA2A2FF\", \"#EEA4A4FF\", \"#EEA5A5FF\", \"#EEA7A7FF\", \"#EEA9A9FF\", \"#EEABABFF\", \"#EEACACFF\", \"#EEAEAEFF\", \"#EEB0B0FF\", \"#EEB1B1FF\", \"#EEB3B3FF\", \"#EEB5B5FF\", \"#EEB7B7FF\", \"#EEB8B8FF\", \"#EEBABAFF\", \"#EEBCBCFF\", \"#EEBDBDFF\", \"#EEBFBFFF\", \"#EEC1C1FF\", \"#EEC3C3FF\", \"#EEC4C4FF\", \"#EEC6C6FF\", \"#EEC8C8FF\",  \"#EEC9C9FF\", \"#EECBCBFF\", \"#EECDCDFF\", \"#EECFCFFF\", \"#EED0D0FF\", \"#EED2D2FF\", \"#EED4D4FF\", \"#EED5D5FF\", \"#EED7D7FF\", \"#EED9D9FF\", \"#EEDBDBFF\", \"#EEDCDCFF\", \"#EEDEDEFF\", \"#EEE0E0FF\", \"#EEE1E1FF\", \"#EEE3E3FF\", \"#EEE5E5FF\", \"#EEE7E7FF\", \"#EEE8E8FF\", \"#EEEAEAFF\", \"#EEECECFF\", \"#EEEEEEFF\")\n",
      "edgeCol\t =  c(\"#474747FF\", \"#494949FF\", \"#4B4B4BFF\", \"#4D4D4DFF\", \"#4F4F4FFF\", \"#515151FF\", \"#535353FF\", \"#555555FF\", \"#575757FF\", \"#595959FF\", \"#5B5B5BFF\", \"#5E5E5EFF\", \"#606060FF\", \"#626262FF\", \"#646464FF\", \"#666666FF\", \"#686868FF\", \"#6A6A6AFF\", \"#6C6C6CFF\", \"#6E6E6EFF\", \"#707070FF\", \"#727272FF\", \"#747474FF\", \"#767676FF\", \"#787878FF\", \"#7A7A7AFF\", \"#7C7C7CFF\", \"#7E7E7EFF\", \"#808080FF\", \"#828282FF\", \"#848484FF\", \"#868686FF\", \"#888888FF\", \"#8A8A8AFF\", \"#8C8C8CFF\", \"#8D8D8DFF\", \"#8F8F8FFF\", \"#919191FF\", \"#939393FF\",  \"#959595FF\", \"#979797FF\", \"#999999FF\", \"#9A9A9AFF\", \"#9C9C9CFF\", \"#9E9E9EFF\", \"#A0A0A0FF\", \"#A2A2A2FF\", \"#A3A3A3FF\", \"#A5A5A5FF\", \"#A7A7A7FF\", \"#A9A9A9FF\", \"#AAAAAAFF\", \"#ACACACFF\", \"#AEAEAEFF\", \"#AFAFAFFF\", \"#B1B1B1FF\", \"#B3B3B3FF\", \"#B4B4B4FF\", \"#B6B6B6FF\", \"#B7B7B7FF\", \"#B9B9B9FF\", \"#BBBBBBFF\", \"#BCBCBCFF\", \"#BEBEBEFF\", \"#BFBFBFFF\", \"#C1C1C1FF\", \"#C2C2C2FF\", \"#C3C3C4FF\", \"#C5C5C5FF\", \"#C6C6C6FF\", \"#C8C8C8FF\", \"#C9C9C9FF\", \"#CACACAFF\", \"#CCCCCCFF\", \"#CDCDCDFF\", \"#CECECEFF\", \"#CFCFCFFF\", \"#D1D1D1FF\",  \"#D2D2D2FF\", \"#D3D3D3FF\", \"#D4D4D4FF\", \"#D5D5D5FF\", \"#D6D6D6FF\", \"#D7D7D7FF\", \"#D8D8D8FF\", \"#D9D9D9FF\", \"#DADADAFF\", \"#DBDBDBFF\", \"#DCDCDCFF\", \"#DDDDDDFF\", \"#DEDEDEFF\", \"#DEDEDEFF\", \"#DFDFDFFF\", \"#E0E0E0FF\", \"#E0E0E0FF\", \"#E1E1E1FF\", \"#E1E1E1FF\", \"#E2E2E2FF\", \"#E2E2E2FF\", \"#E2E2E2FF\")\n",
      "alpha\t =  0.5\n",
      "cex\t =  1\n",
      "itemLabels\t =  TRUE\n",
      "labelCol\t =  #000000B3\n",
      "measureLabels\t =  FALSE\n",
      "precision\t =  3\n",
      "layout\t =  NULL\n",
      "layoutParams\t =  list()\n",
      "arrowSize\t =  0.5\n",
      "engine\t =  igraph\n",
      "plot\t =  TRUE\n",
      "plot_options\t =  list()\n",
      "max\t =  100\n",
      "verbose\t =  FALSE\n"
     ]
    },
    {
     "data": {
      "image/png": "[encoded data removed]",
      "text/plain": [
       "Plot with title \"Graph for 7 rules\""
      ]
     },
     "metadata": {
      "image/png": {
       "height": 450,
       "width": 600
      },
      "text/plain": {
       "height": 450,
       "width": 600
      }
     },
     "output_type": "display_data"
    }
   ],
   "source": [
    "plot(regras, method=\"graph\", control=list(type=\"items\"))"
   ]
  }
 ],
 "metadata": {
  "kernelspec": {
   "display_name": "R 3.3",
   "language": "R",
   "name": "ir33"
  },
  "language_info": {
   "codemirror_mode": "r",
   "file_extension": ".r",
   "mimetype": "text/x-r-source",
   "name": "R",
   "pygments_lexer": "r",
   "version": "3.6.1"
  }
 },
 "nbformat": 4,
 "nbformat_minor": 4
}
